{
 "cells": [
  {
   "cell_type": "code",
   "execution_count": 23,
   "metadata": {},
   "outputs": [
    {
     "name": "stdout",
     "output_type": "stream",
     "text": [
      "original array: [11 12 13 14] and elements to be added: [15, 16, 17, 18, 19, 20]\n",
      "updated array: [11 12 13 14 15 16 17 18 19 20]\n"
     ]
    }
   ],
   "source": [
    "\"\"\" \n",
    "\n",
    "    @Author: Likhitha S\n",
    "    @Date: 10-10-2024 18:10\n",
    "    @Last Modified by: Likhitha S\n",
    "    @Last Modified time: 10-10-2024 18:10\n",
    "    @Title:  Write a Python program to append values to the end of an array.  \n",
    "    \n",
    "    \"\"\"\n",
    "\n",
    "import numpy as np\n",
    "import logging\n",
    "\n",
    "def appending_ele(arr, values):\n",
    "    \"\"\"\n",
    "\n",
    "        Description: \n",
    "            This function is used to append elements at end of the array.\n",
    "        Parameters: \n",
    "            arr and values are Parameters arr is an array and values are the elements to be added to it.\n",
    "        return:\n",
    "            It returns updated array.\n",
    "\n",
    "    \"\"\"\n",
    "    \n",
    "    logging.basicConfig(level=logging.DEBUG, format=('%(asctime)s- %(levelname)s- %(name)s- %(message)s'))\n",
    "    \n",
    "    logging.debug(f\"original array: {arr}, eles to be added: {values}\")\n",
    "    \n",
    "   \n",
    "    arr=np.append(arr,values)\n",
    "            \n",
    "    logging.debug(f\"updated array: {arr}\")\n",
    "    \n",
    "    return arr\n",
    "\n",
    "def main():\n",
    "    \n",
    "    arr=np.array([11,12,13,14])\n",
    "    values=[15,16,17,18,19,20]\n",
    "\n",
    "    print(f\"original array: {arr} and elements to be added: {values}\")\n",
    "    res= appending_ele(arr, values)\n",
    "    print(\"updated array:\", res)\n",
    "\n",
    "if __name__==\"__main__\":\n",
    "    main()"
   ]
  }
 ],
 "metadata": {
  "kernelspec": {
   "display_name": "Python 3",
   "language": "python",
   "name": "python3"
  },
  "language_info": {
   "codemirror_mode": {
    "name": "ipython",
    "version": 3
   },
   "file_extension": ".py",
   "mimetype": "text/x-python",
   "name": "python",
   "nbconvert_exporter": "python",
   "pygments_lexer": "ipython3",
   "version": "3.11.7"
  }
 },
 "nbformat": 4,
 "nbformat_minor": 2
}
