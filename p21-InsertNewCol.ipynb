{
 "cells": [
  {
   "cell_type": "code",
   "execution_count": 5,
   "metadata": {},
   "outputs": [
    {
     "name": "stdout",
     "output_type": "stream",
     "text": [
      "after adding new column then modified data will be:         name  score  attempts qualify result\n",
      "a  Anastasia   12.5         1     yes   pass\n",
      "b       Dima    9.0         3      no   fail\n",
      "c  Katherine   16.5         2     yes   pass\n",
      "d      James    NaN         3      no   fail\n",
      "e      Emily    9.0         2      no   fail\n",
      "f    Michael   20.0         3     yes   pass\n",
      "g    Matthew   14.5         1     yes   pass\n",
      "h      Laura    NaN         1      no   fail\n",
      "i      Kevin    8.0         2      no   fail\n",
      "j      Jonas   19.0         1     yes   pass\n"
     ]
    }
   ],
   "source": [
    "\n",
    "\"\"\" \n",
    "    @Author: Likhitha S\n",
    "    @Date: 14-10-2024 10:00\n",
    "    @Last Modified by: Likhitha S\n",
    "    @Last Modified time: 14-10-2024 10:00\n",
    "    @Title:Write a Python program to insert a new column in existing DataFrame.  \n",
    "    \n",
    "\"\"\"\n",
    "\n",
    "import pandas as pd\n",
    "import numpy as np\n",
    "from logging import *\n",
    "\n",
    "def additionof_newcol(data):\n",
    "    \"\"\"\n",
    "\n",
    "        Description: \n",
    "            This function is used to add new column for existing dataframe .\n",
    "        Parameters: \n",
    "            data is an complete information of all the exam atire .\n",
    "        return:\n",
    "            It returns the modified data.\n",
    "            \n",
    "    \"\"\"\n",
    "    \n",
    "    getLogger().handlers.clear()\n",
    "    basicConfig(filename=\"file.log\", filemode='w', level=INFO, format=(\"%(asctime)s: %(levelname)s: %(message)s\"))\n",
    "    info(f\"orginal overall data will be: {data} \")\n",
    "   \n",
    "    # new_column_name='result'\n",
    "    # new_col_values=['pass' if score>=10 else 'fail' for score in data['score']]\n",
    "    \n",
    "    # data[new_column_name]=new_col_values\n",
    "\n",
    "    new_col=[]\n",
    "    for index in range(len(data)):\n",
    "        score=data.loc[data.index[index], 'score']\n",
    "        if score>=10:\n",
    "            new_col.append('pass')\n",
    "        else:\n",
    "            new_col.append('fail')\n",
    "\n",
    "    data['result']=new_col\n",
    "    return data\n",
    "\n",
    "def main():\n",
    "    exam_data = {'name': ['Anastasia', 'Dima', 'Katherine', 'James', 'Emily', 'Michael', 'Matthew', \n",
    "    'Laura', 'Kevin', 'Jonas'], \n",
    "    'score': [12.5, 9, 16.5, np.nan, 9, 20, 14.5, np.nan, 8, 19], \n",
    "    'attempts': [1, 3, 2, 3, 2, 3, 1, 1, 2, 1], \n",
    "    'qualify': ['yes', 'no', 'yes', 'no', 'no', 'yes', 'yes', 'no', 'no', 'yes']} \n",
    "    labels = ['a', 'b', 'c', 'd', 'e', 'f', 'g', 'h', 'i', 'j'] \n",
    "   \n",
    "    info(f\"original data: {exam_data} and label: {labels}\")\n",
    "    df=pd.DataFrame(exam_data, index=labels)\n",
    "    res=additionof_newcol(df)\n",
    "    info(f\"after adding new column then modified data will be: {res}\")\n",
    "    print(f\"after adding new column then modified data will be: {res}\")\n",
    "    \n",
    "if __name__==\"__main__\":\n",
    "    main()"
   ]
  }
 ],
 "metadata": {
  "kernelspec": {
   "display_name": "Python 3",
   "language": "python",
   "name": "python3"
  },
  "language_info": {
   "codemirror_mode": {
    "name": "ipython",
    "version": 3
   },
   "file_extension": ".py",
   "mimetype": "text/x-python",
   "name": "python",
   "nbconvert_exporter": "python",
   "pygments_lexer": "ipython3",
   "version": "3.11.7"
  }
 },
 "nbformat": 4,
 "nbformat_minor": 2
}
