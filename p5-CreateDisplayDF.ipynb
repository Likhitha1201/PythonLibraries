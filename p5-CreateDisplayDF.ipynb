{
 "cells": [
  {
   "cell_type": "code",
   "execution_count": null,
   "metadata": {},
   "outputs": [],
   "source": [
    "\n",
    "\"\"\" \n",
    "    @Author: Likhitha S\n",
    "    @Date: 13-10-2024 13:40\n",
    "    @Last Modified by: Likhitha S\n",
    "    @Last Modified time: 13-10-2024 13:40\n",
    "    @Title: Write a Python program to create and display a one-dimensional array-like object containing an array of data using Pandas module.  \n",
    "           \n",
    "\"\"\"\n",
    "\n",
    "import pandas as pd\n",
    "import numpy as np\n",
    "\n",
    "def main():\n",
    "    \"\"\"\n",
    "\n",
    "        Description: \n",
    "            This function is used to create 1D-array.\n",
    "        Parameters: \n",
    "            data is used to store the elements in 1D-array .\n",
    "        return:\n",
    "            It print the array elements.\n",
    "\n",
    "    \"\"\"\n",
    "    \n",
    "    res=pd.DataFrame(xam_data = {'name': ['Anastasia', 'Dima', 'Katherine', 'James', 'Emily', 'Michael', \n",
    "'Matthew', 'Laura', 'Kevin', 'Jonas'], \n",
    "'score': [12.5, 9, 16.5, np.nan, 9, 20, 14.5, np.nan, 8, 19], \n",
    "'attempts': [1, 3, 2, 3, 2, 3, 1, 1, 2, 1], \n",
    "'qualify': ['yes', 'no', 'yes', 'no', 'no', 'yes', 'yes', 'no', 'no', 'yes']} \n",
    "labels = ['a', 'b', 'c', 'd', 'e', 'f', 'g', 'h', 'i', 'j'] )\n",
    "    print(res)\n",
    "    \n",
    "if __name__==\"__main__\":\n",
    "    main()"
   ]
  }
 ],
 "metadata": {
  "kernelspec": {
   "display_name": "Python 3",
   "language": "python",
   "name": "python3"
  },
  "language_info": {
   "name": "python",
   "version": "3.11.7"
  }
 },
 "nbformat": 4,
 "nbformat_minor": 2
}
