{
 "cells": [
  {
   "cell_type": "code",
   "execution_count": 22,
   "metadata": {},
   "outputs": [
    {
     "name": "stderr",
     "output_type": "stream",
     "text": [
      "2024-10-11 08:54:43,949- DEBUG- getting difference from [12 34 56 78] and [34 56 23 35] , and it will be stored in [0. 0. 0. 0.]\n",
      "2024-10-11 08:54:43,953- DEBUG- differed elements in are: [12. 78.  0.  0.]\n",
      "2024-10-11 08:54:43,953- DEBUG- differed elements in are: [12. 78.]\n"
     ]
    },
    {
     "name": "stdout",
     "output_type": "stream",
     "text": [
      "final differed ele are: [12. 78.]\n"
     ]
    }
   ],
   "source": [
    "\"\"\" \n",
    "\n",
    "    @Author: Likhitha S\n",
    "    @Date: 10-10-2024 19:00\n",
    "    @Last Modified by: Likhitha S\n",
    "    @Last Modified time: 10-10-2024 19:00\n",
    "    @Title: Write a Python program to find the set difference of two arrays. The set difference will return the sorted, unique values in array1 that are not in array2.  \n",
    "\n",
    "\"\"\"\n",
    "\n",
    "import numpy as np\n",
    "import logging\n",
    "\n",
    "def difference(arr1, arr2):\n",
    "    \"\"\"\n",
    "\n",
    "        Description: \n",
    "            This function is used to find the common elements present in both the array.\n",
    "        Parameters: \n",
    "            ar1 and arr2 are arrays came from the main method.\n",
    "        return:\n",
    "            It returns differed ele listed in new array.\n",
    "\n",
    "    \"\"\"\n",
    "    \n",
    "    logging.basicConfig(level=logging.DEBUG,format=(\"%(asctime)s- %(levelname)s- %(message)s\"))\n",
    "    arr=np.zeros(len(arr2))\n",
    "    logging.debug(f\"getting difference from {arr1} and {arr2} , and it will be stored in {arr}\")\n",
    "    k=0\n",
    "    for i in arr1:\n",
    "        found=False\n",
    "        for j in arr2:\n",
    "            if i == j:\n",
    "                found=True\n",
    "        if not found:\n",
    "            arr[k]=i\n",
    "            k+=1\n",
    "    #ar=np.setdiff1d(arr1, arr2)         \n",
    "    comm_eles=arr[:k]\n",
    "    logging.debug(f\"differed elements in are: {arr}\")\n",
    "    return comm_eles\n",
    "\n",
    "def main():\n",
    "    arr1=np.array([12,34,56,78])\n",
    "    arr2=np.array([34,56,23,35])\n",
    "\n",
    "    res=difference(arr1, arr2)\n",
    "    logging.debug(f\"differed elements in are: {res}\")\n",
    "    print(\"final differed ele are:\",res)\n",
    "    \n",
    "if __name__==\"__main__\":\n",
    "    main()"
   ]
  }
 ],
 "metadata": {
  "kernelspec": {
   "display_name": "Python 3",
   "language": "python",
   "name": "python3"
  },
  "language_info": {
   "codemirror_mode": {
    "name": "ipython",
    "version": 3
   },
   "file_extension": ".py",
   "mimetype": "text/x-python",
   "name": "python",
   "nbconvert_exporter": "python",
   "pygments_lexer": "ipython3",
   "version": "3.11.7"
  }
 },
 "nbformat": 4,
 "nbformat_minor": 2
}
