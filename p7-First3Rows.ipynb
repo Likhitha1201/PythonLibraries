{
 "cells": [
  {
   "cell_type": "code",
   "execution_count": 6,
   "metadata": {},
   "outputs": [
    {
     "name": "stdout",
     "output_type": "stream",
     "text": [
      "from overall record this will be the first three rows:         name  score  attempts qualify\n",
      "a  Anastasia   12.5         1     yes\n",
      "b       Dima    9.0         3      no\n",
      "c  Katherine   16.5         2     yes\n"
     ]
    }
   ],
   "source": [
    "\n",
    "\"\"\" \n",
    "    @Author: Likhitha S\n",
    "    @Date: 13-10-2024 19:06\n",
    "    @Last Modified by: Likhitha S\n",
    "    @Last Modified time: 13-10-2024 19:06\n",
    "    @Title: Write a Python program to get the first 3 rows of a given DataFrame.\n",
    "           \n",
    "\"\"\"\n",
    "\n",
    "import pandas as pd\n",
    "import numpy as np\n",
    "from logging import *\n",
    "\n",
    "def display(exam_data, labels):  \n",
    "    \"\"\"\n",
    "\n",
    "        Description: \n",
    "            This function is used to display the dataframes.\n",
    "        Parameters: \n",
    "            exam_data and labels which are displayed using dataframes .\n",
    "        return:\n",
    "            It returns the dataframe.\n",
    "\n",
    "    \"\"\"\n",
    "   \n",
    "    getLogger().handlers.clear()\n",
    "    basicConfig(filename=\"file.log\", filemode='w', level=DEBUG, format=(\"%(asctime)s- %(levelname)s- %(message)s\"))\n",
    "    data =pd.DataFrame(exam_data, labels)\n",
    "    info(\"data frames created successfully!!\")\n",
    "    information= data.head(3)\n",
    "    return information\n",
    "    \n",
    "def main():\n",
    "    exam_data = {'name': ['Anastasia', 'Dima', 'Katherine', 'James', 'Emily', 'Michael', \n",
    "    'Matthew', 'Laura', 'Kevin', 'Jonas'], \n",
    "    'score': [12.5, 9, 16.5, np.nan, 9, 20, 14.5, np.nan, 8, 19], \n",
    "    'attempts': [1, 3, 2, 3, 2, 3, 1, 1, 2, 1], \n",
    "    'qualify': ['yes', 'no', 'yes', 'no', 'no', 'yes', 'yes', 'no', 'no', 'yes']}\n",
    "     \n",
    "    labels = ['a', 'b', 'c', 'd', 'e', 'f', 'g', 'h', 'i', 'j']\n",
    "    \n",
    "    \n",
    "    res=display(exam_data, labels)\n",
    "    debug(f\"original data are inserted such as: {exam_data} and custo labes are setted as: {labels}\")\n",
    "    print(\"from overall record this will be the first three rows:\", res)\n",
    "    info(f\"from overall data of a record first three will be: {res}\")\n",
    "    \n",
    "if __name__==\"__main__\":\n",
    "    main()"
   ]
  }
 ],
 "metadata": {
  "kernelspec": {
   "display_name": "Python 3",
   "language": "python",
   "name": "python3"
  },
  "language_info": {
   "codemirror_mode": {
    "name": "ipython",
    "version": 3
   },
   "file_extension": ".py",
   "mimetype": "text/x-python",
   "name": "python",
   "nbconvert_exporter": "python",
   "pygments_lexer": "ipython3",
   "version": "3.11.7"
  }
 },
 "nbformat": 4,
 "nbformat_minor": 2
}
