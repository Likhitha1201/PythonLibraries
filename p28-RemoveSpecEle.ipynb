{
 "cells": [
  {
   "cell_type": "code",
   "execution_count": 15,
   "metadata": {},
   "outputs": [
    {
     "name": "stdout",
     "output_type": "stream",
     "text": [
      "Original are: [10 20 30 40 50 60 70 80]\n"
     ]
    },
    {
     "ename": "IndexError",
     "evalue": "index 5 is out of bounds for axis 0 with size 5",
     "output_type": "error",
     "traceback": [
      "\u001b[1;31m---------------------------------------------------------------------------\u001b[0m",
      "\u001b[1;31mIndexError\u001b[0m                                Traceback (most recent call last)",
      "Cell \u001b[1;32mIn[15], line 47\u001b[0m\n\u001b[0;32m     43\u001b[0m     \u001b[38;5;28mprint\u001b[39m(\u001b[38;5;124mf\u001b[39m\u001b[38;5;124m\"\u001b[39m\u001b[38;5;124mAfter removing an elements from array: \u001b[39m\u001b[38;5;132;01m{\u001b[39;00mn_array\u001b[38;5;132;01m}\u001b[39;00m\u001b[38;5;124m\"\u001b[39m)\n\u001b[0;32m     46\u001b[0m \u001b[38;5;28;01mif\u001b[39;00m \u001b[38;5;18m__name__\u001b[39m\u001b[38;5;241m==\u001b[39m\u001b[38;5;124m\"\u001b[39m\u001b[38;5;124m__main__\u001b[39m\u001b[38;5;124m\"\u001b[39m:\n\u001b[1;32m---> 47\u001b[0m     main()\n",
      "Cell \u001b[1;32mIn[15], line 42\u001b[0m, in \u001b[0;36mmain\u001b[1;34m()\u001b[0m\n\u001b[0;32m     40\u001b[0m arr\u001b[38;5;241m=\u001b[39mnp\u001b[38;5;241m.\u001b[39marray([\u001b[38;5;241m10\u001b[39m,\u001b[38;5;241m20\u001b[39m,\u001b[38;5;241m30\u001b[39m,\u001b[38;5;241m40\u001b[39m,\u001b[38;5;241m50\u001b[39m,\u001b[38;5;241m60\u001b[39m,\u001b[38;5;241m70\u001b[39m,\u001b[38;5;241m80\u001b[39m])\n\u001b[0;32m     41\u001b[0m \u001b[38;5;28mprint\u001b[39m(\u001b[38;5;124mf\u001b[39m\u001b[38;5;124m\"\u001b[39m\u001b[38;5;124mOriginal are: \u001b[39m\u001b[38;5;132;01m{\u001b[39;00marr\u001b[38;5;132;01m}\u001b[39;00m\u001b[38;5;124m\"\u001b[39m)\n\u001b[1;32m---> 42\u001b[0m n_array\u001b[38;5;241m=\u001b[39mremoving_ele(arr)\n\u001b[0;32m     43\u001b[0m \u001b[38;5;28mprint\u001b[39m(\u001b[38;5;124mf\u001b[39m\u001b[38;5;124m\"\u001b[39m\u001b[38;5;124mAfter removing an elements from array: \u001b[39m\u001b[38;5;132;01m{\u001b[39;00mn_array\u001b[38;5;132;01m}\u001b[39;00m\u001b[38;5;124m\"\u001b[39m)\n",
      "Cell \u001b[1;32mIn[15], line 33\u001b[0m, in \u001b[0;36mremoving_ele\u001b[1;34m(arr)\u001b[0m\n\u001b[0;32m     31\u001b[0m \u001b[38;5;28;01mfor\u001b[39;00m i \u001b[38;5;129;01min\u001b[39;00m \u001b[38;5;28mrange\u001b[39m(\u001b[38;5;28mlen\u001b[39m(arr)):\n\u001b[0;32m     32\u001b[0m     \u001b[38;5;28;01mif\u001b[39;00m i\u001b[38;5;241m!=\u001b[39m\u001b[38;5;241m1\u001b[39m \u001b[38;5;129;01mor\u001b[39;00m i\u001b[38;5;241m!=\u001b[39m\u001b[38;5;241m4\u001b[39m \u001b[38;5;129;01mor\u001b[39;00m i\u001b[38;5;241m!=\u001b[39m\u001b[38;5;241m5\u001b[39m:\n\u001b[1;32m---> 33\u001b[0m         new_arr[k]\u001b[38;5;241m=\u001b[39marr[i]\n\u001b[0;32m     34\u001b[0m         k\u001b[38;5;241m+\u001b[39m\u001b[38;5;241m=\u001b[39m\u001b[38;5;241m1\u001b[39m\n\u001b[0;32m     36\u001b[0m logging\u001b[38;5;241m.\u001b[39minfo(\u001b[38;5;124mf\u001b[39m\u001b[38;5;124m\"\u001b[39m\u001b[38;5;124mNew array after adding column: \u001b[39m\u001b[38;5;130;01m\\n\u001b[39;00m\u001b[38;5;132;01m{\u001b[39;00mnew_arr\u001b[38;5;132;01m}\u001b[39;00m\u001b[38;5;124m\"\u001b[39m)\n",
      "\u001b[1;31mIndexError\u001b[0m: index 5 is out of bounds for axis 0 with size 5"
     ]
    }
   ],
   "source": [
    "\"\"\" \n",
    "\n",
    "    @Author: Likhitha S\n",
    "    @Date: 11-10-2024 14:30\n",
    "    @Last Modified by: Likhitha S\n",
    "    @Last Modified time: 11-10-2024 14:30\n",
    "    @Title:Write a Python program to how to add an extra column to an numpy array.  \n",
    "    \n",
    "\"\"\"\n",
    "\n",
    "import numpy as np\n",
    "import logging\n",
    "\n",
    "def removing_ele(arr):\n",
    "    \"\"\"\n",
    "\n",
    "        Description: \n",
    "            This function is used to convert scientific notation to decimal numbers.\n",
    "        Parameters: \n",
    "            arr is a collection of scientific elements in an array.\n",
    "        return:\n",
    "            It returns an updated array.\n",
    "\n",
    "    \"\"\"\n",
    "    \n",
    "    logging.basicConfig(filename=\"common.log\", filemode='w', level=logging.DEBUG, format=(\"%(asctime)s- %(levelname)s- %(message)s\"))\n",
    "    logging.info(f\"Original array elements: {arr}\")\n",
    "    \n",
    "    new_arr=np.zeros(len(arr)-3)\n",
    "    k=0\n",
    "    for i in range(len(arr)):\n",
    "        if i!=1 or i!=4 or i!=5:\n",
    "            new_arr[k]=arr[i]\n",
    "            k+=1\n",
    "    \n",
    "    logging.info(f\"New array after adding column: \\n{new_arr}\")\n",
    "    return new_arr\n",
    "\n",
    "def main():\n",
    "    arr=np.array([10,20,30,40,50,60,70,80])\n",
    "    print(f\"Original are: {arr}\")\n",
    "    n_array=removing_ele(arr)\n",
    "    print(f\"After removing an elements from array: {n_array}\")\n",
    "    \n",
    "    \n",
    "if __name__==\"__main__\":\n",
    "    main()"
   ]
  }
 ],
 "metadata": {
  "kernelspec": {
   "display_name": "Python 3",
   "language": "python",
   "name": "python3"
  },
  "language_info": {
   "codemirror_mode": {
    "name": "ipython",
    "version": 3
   },
   "file_extension": ".py",
   "mimetype": "text/x-python",
   "name": "python",
   "nbconvert_exporter": "python",
   "pygments_lexer": "ipython3",
   "version": "3.11.7"
  }
 },
 "nbformat": 4,
 "nbformat_minor": 2
}
