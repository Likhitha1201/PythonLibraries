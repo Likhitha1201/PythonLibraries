{
 "cells": [
  {
   "cell_type": "code",
   "execution_count": 7,
   "metadata": {},
   "outputs": [
    {
     "name": "stderr",
     "output_type": "stream",
     "text": [
      "2024-10-13 18:00:55,946- INFO- the original array which is needed to be calculated the power is: 0     2\n",
      "1    12\n",
      "2    13\n",
      "3    14\n",
      "4    15\n",
      "5    16\n",
      "dtype: int64\n",
      "2024-10-13 18:00:55,946- INFO- now the array of power of each ele is stored in: 0        (2, 8)\n",
      "1    (12, 1728)\n",
      "2    (13, 2197)\n",
      "3    (14, 2744)\n",
      "4    (15, 3375)\n",
      "5    (16, 4096)\n",
      "dtype: object\n"
     ]
    },
    {
     "name": "stdout",
     "output_type": "stream",
     "text": [
      "power of an ele in an array is: 0        (2, 8)\n",
      "1    (12, 1728)\n",
      "2    (13, 2197)\n",
      "3    (14, 2744)\n",
      "4    (15, 3375)\n",
      "5    (16, 4096)\n",
      "dtype: object\n"
     ]
    }
   ],
   "source": [
    "\n",
    "\"\"\" \n",
    "    @Author: Likhitha S\n",
    "    @Date: 13-10-2024 13:40\n",
    "    @Last Modified by: Likhitha S\n",
    "    @Last Modified time: 13-10-2024 13:40\n",
    "    @Title: Write a Python program to create and display a one-dimensional array-like object containing an array of data using Pandas module.  \n",
    "           \n",
    "\"\"\"\n",
    "\n",
    "import pandas as pd\n",
    "from logging import *\n",
    "\n",
    "def powerof(arr):\n",
    "    \"\"\"\n",
    "\n",
    "        Description: \n",
    "            This function is used to calculate the cube of each element from given array.\n",
    "        parameter:\n",
    "            new_arr is used to store the power of each elements in an array .\n",
    "        return:\n",
    "            It returns the power of each ele in an array.\n",
    "\n",
    "    \"\"\"\n",
    "    basicConfig(filename=\"file.log\", filemode='w', level=INFO, format=(\"%(asctime)s- %(levelname)s- %(message)s\"))\n",
    "    new_arr=pd.Series()\n",
    "    \n",
    "    k=0\n",
    "    for i in arr:\n",
    "        data=i*i*i\n",
    "        new_arr[k]=i,data\n",
    "        k+=1\n",
    "\n",
    "    info(f\"the original array which is needed to be calculated the power is: {arr}\") \n",
    "    return new_arr\n",
    "\n",
    "def main():\n",
    "    \n",
    "    data=pd.Series([2,12,13,14,15,16])\n",
    "    power=powerof(data)\n",
    "    print(f\"power of an ele in an array is: {power}\")\n",
    "    info(f\"now the array of power of each ele is stored in: {power}\")\n",
    "    \n",
    "if __name__==\"__main__\":\n",
    "    main()"
   ]
  }
 ],
 "metadata": {
  "kernelspec": {
   "display_name": "Python 3",
   "language": "python",
   "name": "python3"
  },
  "language_info": {
   "codemirror_mode": {
    "name": "ipython",
    "version": 3
   },
   "file_extension": ".py",
   "mimetype": "text/x-python",
   "name": "python",
   "nbconvert_exporter": "python",
   "pygments_lexer": "ipython3",
   "version": "3.11.7"
  }
 },
 "nbformat": 4,
 "nbformat_minor": 2
}
