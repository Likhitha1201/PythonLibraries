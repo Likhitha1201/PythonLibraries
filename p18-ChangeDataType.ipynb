{
 "cells": [
  {
   "cell_type": "code",
   "execution_count": 17,
   "metadata": {},
   "outputs": [
    {
     "name": "stdout",
     "output_type": "stream",
     "text": [
      "old array: [[12 34 45]\n",
      " [39 65 78]], and it's type: int32\n",
      "an old array datatype changed to  [[12. 34. 45.]\n",
      " [39. 65. 78.]] and new datatype will be: float64\n",
      " after changing the datatype: [[12 34 45]\n",
      " [39 65 78]] and float64\n"
     ]
    }
   ],
   "source": [
    "\"\"\" \n",
    "\n",
    "    @Author: Likhitha S\n",
    "    @Date: 10-10-2024 11:30\n",
    "    @Last Modified by: Likhitha S\n",
    "    @Last Modified time: 10-10-2024 11:30\n",
    "    @Title:Write a Python program to change the data type of an array.  \n",
    "\n",
    "\"\"\"\n",
    "\n",
    "import numpy as np\n",
    "import logging\n",
    "\n",
    "def change_dtype(arr):\n",
    "    \"\"\"\n",
    "\n",
    "        Description: \n",
    "            This function is used to find the common elements present in both the array.\n",
    "        Parameters: \n",
    "            ar1 and arr2 are arrays came from the main method.\n",
    "        return:\n",
    "            It returns differed ele listed in new array.\n",
    "\n",
    "    \"\"\"\n",
    "    \n",
    "    logging.basicConfig(filename=\"common.log\",level=logging.INFO, format=(\"%(asctime)s- %(levelname)s- %(message)s\"))\n",
    "    print(f\"old array: {arr}, and it's type: {arr.dtype}\")\n",
    "    \n",
    "    n_arr=arr.astype(np.float64)\n",
    "    logging.info(f\"an old array datatype changed to  {n_arr} and new datatype will be: {n_arr.dtype}\")\n",
    "    print(f\"an old array datatype changed to  {n_arr} and new datatype will be: {n_arr.dtype}\")\n",
    "    return n_arr\n",
    "\n",
    "\n",
    "def main():\n",
    "    arr=np.array([[12,34,45],[39,65,78]],dtype=np.int32)\n",
    "    res=change_dtype(arr)\n",
    "    print(f\" after changing the datatype: {arr} and {res.dtype}\")\n",
    "    \n",
    "if __name__==\"__main__\":\n",
    "    main()"
   ]
  }
 ],
 "metadata": {
  "kernelspec": {
   "display_name": "Python 3",
   "language": "python",
   "name": "python3"
  },
  "language_info": {
   "codemirror_mode": {
    "name": "ipython",
    "version": 3
   },
   "file_extension": ".py",
   "mimetype": "text/x-python",
   "name": "python",
   "nbconvert_exporter": "python",
   "pygments_lexer": "ipython3",
   "version": "3.11.7"
  }
 },
 "nbformat": 4,
 "nbformat_minor": 2
}
