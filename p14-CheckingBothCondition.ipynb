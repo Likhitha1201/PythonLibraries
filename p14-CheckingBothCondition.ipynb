{
 "cells": [
  {
   "cell_type": "code",
   "execution_count": 4,
   "metadata": {},
   "outputs": [
    {
     "name": "stdout",
     "output_type": "stream",
     "text": [
      "collection of column will be:     name  score  attempts qualify\n",
      "j  Jonas   19.0         1     yes\n"
     ]
    }
   ],
   "source": [
    "\n",
    "\"\"\" \n",
    "    @Author: Likhitha S\n",
    "    @Date: 14-10-2024 11:00\n",
    "    @Last Modified by: Likhitha S\n",
    "    @Last Modified time: 14-10-2024 11:00\n",
    "    @Title: Write a Python program to select the rows where number of attempts in the examination is less than 2 and score greater than 15.  \n",
    "\n",
    "\"\"\"\n",
    "\n",
    "import pandas as pd\n",
    "import numpy as np\n",
    "from logging import *\n",
    "\n",
    "def checking_condition(data):\n",
    "    \"\"\"\n",
    "\n",
    "        Description: \n",
    "            This function is used to fetch the data which satisfy the given condition .\n",
    "        Parameters: \n",
    "            data is an complete information of all the exam atire .\n",
    "        return:\n",
    "            It returns the satisfied data.\n",
    "            \n",
    "    \"\"\"\n",
    "    \n",
    "    getLogger().handlers.clear()\n",
    "    basicConfig(filename=\"file.log\", filemode='w', level=INFO, format=(\"%(asctime)s: %(levelname)s: %(message)s\"))\n",
    "    info(f\"orginal overall data will be: {data} \")\n",
    "    \n",
    "    List=[]\n",
    "    \n",
    "    for index in data.index:\n",
    "        if data.loc[index, 'attempts']<2 and data.loc[index, 'score']>15:\n",
    "            List.append(data.loc[index])\n",
    "            \n",
    "    data=pd.DataFrame(List)\n",
    "    info(f\"the data who's attempt is lesser than 2 and score is greater than 15 will be: {data}\")\n",
    "    return data\n",
    "\n",
    "def main():\n",
    "    exam_data = {'name': ['Anastasia', 'Dima', 'Katherine', 'James', 'Emily', 'Michael', 'Matthew', \n",
    "    'Laura', 'Kevin', 'Jonas'], \n",
    "    'score': [12.5, 9, 16.5, np.nan, 9, 20, 14.5, np.nan, 8, 19], \n",
    "    'attempts': [1, 3, 2, 3, 2, 3, 1, 1, 2, 1], \n",
    "    'qualify': ['yes', 'no', 'yes', 'no', 'no', 'yes', 'yes', 'no', 'no', 'yes']} \n",
    "    labels = ['a', 'b', 'c', 'd', 'e', 'f', 'g', 'h', 'i', 'j'] \n",
    "   \n",
    "    df=pd.DataFrame(exam_data, index=labels)\n",
    "    res=checking_condition(df)\n",
    "    print(f\"collection of column will be: {res}\")\n",
    "    \n",
    "if __name__==\"__main__\":\n",
    "    main()"
   ]
  }
 ],
 "metadata": {
  "kernelspec": {
   "display_name": "Python 3",
   "language": "python",
   "name": "python3"
  },
  "language_info": {
   "codemirror_mode": {
    "name": "ipython",
    "version": 3
   },
   "file_extension": ".py",
   "mimetype": "text/x-python",
   "name": "python",
   "nbconvert_exporter": "python",
   "pygments_lexer": "ipython3",
   "version": "3.11.7"
  }
 },
 "nbformat": 4,
 "nbformat_minor": 2
}
