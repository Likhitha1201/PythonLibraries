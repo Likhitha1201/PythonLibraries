{
 "cells": [
  {
   "cell_type": "code",
   "execution_count": 10,
   "metadata": {},
   "outputs": [
    {
     "name": "stdout",
     "output_type": "stream",
     "text": [
      "original array: [[1. 1. 1. 1. 1.]\n",
      " [1. 1. 1. 1. 1.]\n",
      " [1. 1. 1. 1. 1.]\n",
      " [1. 1. 1. 1. 1.]\n",
      " [1. 1. 1. 1. 1.]]\n",
      "updated array:  [[1. 1. 1. 1. 1.]\n",
      " [1. 0. 0. 0. 1.]\n",
      " [1. 0. 0. 0. 1.]\n",
      " [1. 0. 0. 0. 1.]\n",
      " [1. 1. 1. 1. 1.]]\n"
     ]
    }
   ],
   "source": [
    "\"\"\" \n",
    "\n",
    "    @Author: Likhitha S\n",
    "    @Date: 10-10-2024 16:45\n",
    "    @Last Modified by: Likhitha S\n",
    "    @Last Modified time: 10-10-2024 16:45\n",
    "    @Title: Write a Python program to create a 2d array with 1 on the border and 0 inside.\n",
    "\n",
    "\"\"\"\n",
    "\n",
    "import numpy as np\n",
    "\n",
    "def main():\n",
    "    \"\"\"\n",
    "\n",
    "        Description: \n",
    "            This function is used to create the collection of ones in an array of 5*5.\n",
    "        Parameters: \n",
    "            arr is used to store the one's element in it and to modify based on the position.\n",
    "        return:\n",
    "            It print the original and updated array.\n",
    "\n",
    "    \"\"\"\n",
    "    \n",
    "    arr= np.ones((5,5))\n",
    "    print(\"original array:\",arr)\n",
    "    \n",
    "    for i in range(1,4):\n",
    "        for j in range(1,4):\n",
    "            arr[i,j]=0\n",
    "           \n",
    "            \n",
    "    print(\"updated array: \",arr)\n",
    "    \n",
    "if __name__==\"__main__\":\n",
    "    main()"
   ]
  }
 ],
 "metadata": {
  "kernelspec": {
   "display_name": "Python 3",
   "language": "python",
   "name": "python3"
  },
  "language_info": {
   "codemirror_mode": {
    "name": "ipython",
    "version": 3
   },
   "file_extension": ".py",
   "mimetype": "text/x-python",
   "name": "python",
   "nbconvert_exporter": "python",
   "pygments_lexer": "ipython3",
   "version": "3.11.7"
  }
 },
 "nbformat": 4,
 "nbformat_minor": 2
}
