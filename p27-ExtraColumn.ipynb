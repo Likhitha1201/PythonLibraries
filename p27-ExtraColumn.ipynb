{
 "cells": [
  {
   "cell_type": "code",
   "execution_count": 6,
   "metadata": {},
   "outputs": [
    {
     "name": "stdout",
     "output_type": "stream",
     "text": [
      "Original array:\n",
      "[[10 20]\n",
      " [20 30]\n",
      " [30 40]]\n",
      "The array has 3 rows.\n"
     ]
    },
    {
     "ename": "ValueError",
     "evalue": "all the input array dimensions except for the concatenation axis must match exactly, but along dimension 1, the array at index 0 has size 2 and the array at index 1 has size 1",
     "output_type": "error",
     "traceback": [
      "\u001b[1;31m---------------------------------------------------------------------------\u001b[0m",
      "\u001b[1;31mValueError\u001b[0m                                Traceback (most recent call last)",
      "Cell \u001b[1;32mIn[6], line 39\u001b[0m\n\u001b[0;32m     36\u001b[0m     \u001b[38;5;28mprint\u001b[39m(\u001b[38;5;124mf\u001b[39m\u001b[38;5;124m\"\u001b[39m\u001b[38;5;124mArray after adding new column:\u001b[39m\u001b[38;5;130;01m\\n\u001b[39;00m\u001b[38;5;132;01m{\u001b[39;00mn_array\u001b[38;5;132;01m}\u001b[39;00m\u001b[38;5;124m\"\u001b[39m)\n\u001b[0;32m     38\u001b[0m \u001b[38;5;28;01mif\u001b[39;00m \u001b[38;5;18m__name__\u001b[39m \u001b[38;5;241m==\u001b[39m \u001b[38;5;124m\"\u001b[39m\u001b[38;5;124m__main__\u001b[39m\u001b[38;5;124m\"\u001b[39m:\n\u001b[1;32m---> 39\u001b[0m     main()\n",
      "Cell \u001b[1;32mIn[6], line 35\u001b[0m, in \u001b[0;36mmain\u001b[1;34m()\u001b[0m\n\u001b[0;32m     32\u001b[0m \u001b[38;5;28mprint\u001b[39m(\u001b[38;5;124mf\u001b[39m\u001b[38;5;124m\"\u001b[39m\u001b[38;5;124mOriginal array:\u001b[39m\u001b[38;5;130;01m\\n\u001b[39;00m\u001b[38;5;132;01m{\u001b[39;00marr\u001b[38;5;132;01m}\u001b[39;00m\u001b[38;5;124m\"\u001b[39m)\n\u001b[0;32m     34\u001b[0m \u001b[38;5;66;03m# Add a new column\u001b[39;00m\n\u001b[1;32m---> 35\u001b[0m n_array \u001b[38;5;241m=\u001b[39m adding_column(arr)\n\u001b[0;32m     36\u001b[0m \u001b[38;5;28mprint\u001b[39m(\u001b[38;5;124mf\u001b[39m\u001b[38;5;124m\"\u001b[39m\u001b[38;5;124mArray after adding new column:\u001b[39m\u001b[38;5;130;01m\\n\u001b[39;00m\u001b[38;5;132;01m{\u001b[39;00mn_array\u001b[38;5;132;01m}\u001b[39;00m\u001b[38;5;124m\"\u001b[39m)\n",
      "Cell \u001b[1;32mIn[6], line 25\u001b[0m, in \u001b[0;36madding_column\u001b[1;34m(arr)\u001b[0m\n\u001b[0;32m     23\u001b[0m \u001b[38;5;66;03m# Convert the list into a column (2D array) and concatenate it\u001b[39;00m\n\u001b[0;32m     24\u001b[0m new_col \u001b[38;5;241m=\u001b[39m np\u001b[38;5;241m.\u001b[39marray(new_col)\u001b[38;5;241m.\u001b[39mreshape(\u001b[38;5;241m-\u001b[39m\u001b[38;5;241m1\u001b[39m, \u001b[38;5;241m1\u001b[39m)  \u001b[38;5;66;03m# Reshaping to make it a column vector\u001b[39;00m\n\u001b[1;32m---> 25\u001b[0m new_arr \u001b[38;5;241m=\u001b[39m np\u001b[38;5;241m.\u001b[39mvstack((arr, new_col))  \u001b[38;5;66;03m# Horizontal stack to add the column\u001b[39;00m\n\u001b[0;32m     27\u001b[0m \u001b[38;5;28;01mreturn\u001b[39;00m new_arr\n",
      "File \u001b[1;32mc:\\Users\\Likhitha S\\OneDrive\\Desktop\\New folder\\Lib\\site-packages\\numpy\\core\\shape_base.py:289\u001b[0m, in \u001b[0;36mvstack\u001b[1;34m(tup, dtype, casting)\u001b[0m\n\u001b[0;32m    287\u001b[0m \u001b[38;5;28;01mif\u001b[39;00m \u001b[38;5;129;01mnot\u001b[39;00m \u001b[38;5;28misinstance\u001b[39m(arrs, \u001b[38;5;28mlist\u001b[39m):\n\u001b[0;32m    288\u001b[0m     arrs \u001b[38;5;241m=\u001b[39m [arrs]\n\u001b[1;32m--> 289\u001b[0m \u001b[38;5;28;01mreturn\u001b[39;00m _nx\u001b[38;5;241m.\u001b[39mconcatenate(arrs, \u001b[38;5;241m0\u001b[39m, dtype\u001b[38;5;241m=\u001b[39mdtype, casting\u001b[38;5;241m=\u001b[39mcasting)\n",
      "\u001b[1;31mValueError\u001b[0m: all the input array dimensions except for the concatenation axis must match exactly, but along dimension 1, the array at index 0 has size 2 and the array at index 1 has size 1"
     ]
    }
   ],
   "source": [
    "\"\"\" \n",
    "\n",
    "    @Author: Likhitha S\n",
    "    @Date: 11-10-2024 14:30\n",
    "    @Last Modified by: Likhitha S\n",
    "    @Last Modified time: 11-10-2024 14:30\n",
    "    @Title:Write a Python program to how to add an extra column to an numpy array.  \n",
    "    \n",
    "\"\"\"\n",
    "\n",
    "import numpy as np\n",
    "import logging\n",
    "\n",
    "def adding_column(arr):\n",
    "    \"\"\"\n",
    "\n",
    "        Description: \n",
    "            This function is used to convert scientific notation to decimal numbers.\n",
    "        Parameters: \n",
    "            arr is a collection of scientific elements in an array.\n",
    "        return:\n",
    "            It returns an updated array.\n",
    "\n",
    "    \"\"\"\n",
    "    \n",
    "    List=[]\n",
    "    num=int(input(\"Enter the number of elements to be added into a list:\"))\n",
    "    logging.basicConfig(filename=\"common.log\", filemode='w', level=logging.DEBUG, format=(\"%(asctime)s- %(levelname)s- %(message)s\"))\n",
    "    logging.info(f\"Original array elements: {arr}\")\n",
    "    \n",
    "    for i in range(num):\n",
    "        n=int(input(\"Enter the number:\"))\n",
    "        List.append(n)\n",
    "        \n",
    "    List=np.array(List).reshape(-1,1)\n",
    "    new_arr=np.hstack((arr,List))\n",
    "    logging.info(f\"New array after adding column: \\n{new_arr}\")\n",
    "    return new_arr\n",
    "   \n",
    "def main():\n",
    "    arr=np.array([10,20,30],[40,50,60])\n",
    "    print(f\"Original are: {arr}\")\n",
    "    n_array=adding_column(arr)\n",
    "    print(f\"After adding elements to an array: {n_array}\")\n",
    "    \n",
    "if __name__==\"__main__\":\n",
    "    main()"
   ]
  }
 ],
 "metadata": {
  "kernelspec": {
   "display_name": "Python 3",
   "language": "python",
   "name": "python3"
  },
  "language_info": {
   "codemirror_mode": {
    "name": "ipython",
    "version": 3
   },
   "file_extension": ".py",
   "mimetype": "text/x-python",
   "name": "python",
   "nbconvert_exporter": "python",
   "pygments_lexer": "ipython3",
   "version": "3.11.7"
  }
 },
 "nbformat": 4,
 "nbformat_minor": 2
}
