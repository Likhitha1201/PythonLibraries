{
 "cells": [
  {
   "cell_type": "code",
   "execution_count": 20,
   "metadata": {},
   "outputs": [
    {
     "name": "stdout",
     "output_type": "stream",
     "text": [
      "Original are: [[10 20 30]\n",
      " [40 50 60]]\n",
      "After adding elements to an array: [[10 20 30 23]\n",
      " [40 50 60 45]]\n"
     ]
    }
   ],
   "source": [
    "\"\"\" \n",
    "\n",
    "    @Author: Likhitha S\n",
    "    @Date: 11-10-2024 14:30\n",
    "    @Last Modified by: Likhitha S\n",
    "    @Last Modified time: 11-10-2024 14:30\n",
    "    @Title:Write a Python program to how to add an extra column to an numpy array.  \n",
    "    \n",
    "\"\"\"\n",
    "\n",
    "import numpy as np\n",
    "import logging\n",
    "\n",
    "def adding_column(arr):\n",
    "    \"\"\"\n",
    "\n",
    "        Description: \n",
    "            This function is used to convert scientific notation to decimal numbers.\n",
    "        Parameters: \n",
    "            arr is a collection of scientific elements in an array.\n",
    "        return:\n",
    "            It returns an updated array.\n",
    "\n",
    "    \"\"\"\n",
    "    \n",
    "    List=[]\n",
    "    num=int(input(\"Enter the number of elements to be added into a list:\"))\n",
    "    logging.basicConfig(filename=\"common.log\", filemode='w', level=logging.DEBUG, format=(\"%(asctime)s- %(levelname)s- %(message)s\"))\n",
    "    logging.info(f\"Original array elements: {arr}\")\n",
    "    \n",
    "    for i in range(num):\n",
    "        n=int(input(\"Enter the number:\"))\n",
    "        List.append(n)\n",
    "        \n",
    "    List=np.array(List).reshape(-1,1)\n",
    "    new_arr=np.hstack((arr,List))\n",
    "    logging.info(f\"New array after adding column: \\n{new_arr}\")\n",
    "    return new_arr\n",
    "\n",
    "   \n",
    "def main():\n",
    "    arr=np.array([[10,20,30],[40,50,60]])\n",
    "    print(f\"Original are: {arr}\")\n",
    "    n_array=adding_column(arr)\n",
    "    print(f\"After adding elements to an array: {n_array}\")\n",
    "    \n",
    "    \n",
    "if __name__==\"__main__\":\n",
    "    main()"
   ]
  }
 ],
 "metadata": {
  "kernelspec": {
   "display_name": "Python 3",
   "language": "python",
   "name": "python3"
  },
  "language_info": {
   "codemirror_mode": {
    "name": "ipython",
    "version": 3
   },
   "file_extension": ".py",
   "mimetype": "text/x-python",
   "name": "python",
   "nbconvert_exporter": "python",
   "pygments_lexer": "ipython3",
   "version": "3.11.7"
  }
 },
 "nbformat": 4,
 "nbformat_minor": 2
}
