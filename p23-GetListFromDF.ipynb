{
 "cells": [
  {
   "cell_type": "code",
   "execution_count": 4,
   "metadata": {},
   "outputs": [
    {
     "name": "stdout",
     "output_type": "stream",
     "text": [
      "collection of column will be: ['name', 'score', 'attempts', 'qualify']\n"
     ]
    }
   ],
   "source": [
    "\n",
    "\"\"\" \n",
    "    @Author: Likhitha S\n",
    "    @Date: 14-10-2024 11:00\n",
    "    @Last Modified by: Likhitha S\n",
    "    @Last Modified time: 14-10-2024 11:00\n",
    "    @Title:Write a Python program to get list from DataFrame column headers.  \n",
    "    \n",
    "\"\"\"\n",
    "\n",
    "import pandas as pd\n",
    "import numpy as np\n",
    "from logging import *\n",
    "\n",
    "def modifying_data(data):\n",
    "    \"\"\"\n",
    "\n",
    "        Description: \n",
    "            This function is used to replace yes with true and no with false in qualify column .\n",
    "        Parameters: \n",
    "            data is an complete information of all the exam atire .\n",
    "        return:\n",
    "            It returns the modified data.\n",
    "            \n",
    "    \"\"\"\n",
    "    \n",
    "    getLogger().handlers.clear()\n",
    "    basicConfig(filename=\"file.log\", filemode='w', level=INFO, format=(\"%(asctime)s: %(levelname)s: %(message)s\"))\n",
    "    info(f\"orginal overall data will be: {data} \")\n",
    "   \n",
    "    List=[]      \n",
    "        \n",
    "    for column in data.columns:\n",
    "        List.append(column)\n",
    "        \n",
    "    info(f\"collected column names from dataframe in the form of list: {List}\")\n",
    "    return List\n",
    "\n",
    "def main():\n",
    "    exam_data = {'name': ['Anastasia', 'Dima', 'Katherine', 'James', 'Emily', 'Michael', 'Matthew', \n",
    "    'Laura', 'Kevin', 'Jonas'], \n",
    "    'score': [12.5, 9, 16.5, np.nan, 9, 20, 14.5, np.nan, 8, 19], \n",
    "    'attempts': [1, 3, 2, 3, 2, 3, 1, 1, 2, 1], \n",
    "    'qualify': ['yes', 'no', 'yes', 'no', 'no', 'yes', 'yes', 'no', 'no', 'yes']} \n",
    "    labels = ['a', 'b', 'c', 'd', 'e', 'f', 'g', 'h', 'i', 'j'] \n",
    "   \n",
    "    info(f\"original data: {exam_data} and label: {labels}\")\n",
    "    df=pd.DataFrame(exam_data, index=labels)\n",
    "    res=modifying_data(df)\n",
    "    print(f\"collection of column will be: {res}\")\n",
    "    \n",
    "if __name__==\"__main__\":\n",
    "    main()"
   ]
  }
 ],
 "metadata": {
  "kernelspec": {
   "display_name": "Python 3",
   "language": "python",
   "name": "python3"
  },
  "language_info": {
   "codemirror_mode": {
    "name": "ipython",
    "version": 3
   },
   "file_extension": ".py",
   "mimetype": "text/x-python",
   "name": "python",
   "nbconvert_exporter": "python",
   "pygments_lexer": "ipython3",
   "version": "3.11.7"
  }
 },
 "nbformat": 4,
 "nbformat_minor": 2
}
