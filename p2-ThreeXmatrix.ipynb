{
 "cells": [
  {
   "cell_type": "code",
   "execution_count": 14,
   "metadata": {},
   "outputs": [
    {
     "name": "stdout",
     "output_type": "stream",
     "text": [
      "[[ 2  3  4]\n",
      " [ 5  6  7]\n",
      " [ 8  9 10]]\n",
      "---or---\n",
      "[[ 2.  3.  4.]\n",
      " [ 5.  6.  7.]\n",
      " [ 8.  9. 10.]]\n"
     ]
    }
   ],
   "source": [
    "\"\"\" \n",
    "    @Author: Likhitha S\n",
    "    @Date: 10-10-2024 16:00\n",
    "    @Last Modified by: Likhitha S\n",
    "    @Last Modified time: 10-10-2024 16:00\n",
    "    @Title: reate a 3x3 matrix with values ranging from 2 to 10.  \n",
    "           \n",
    "\"\"\"\n",
    "\n",
    "import numpy as np\n",
    "\n",
    "def main():\n",
    "    \"\"\"\n",
    "\n",
    "        Description: \n",
    "            This function is used to create the 3*3 matrix.\n",
    "        Parameters: \n",
    "            List ia used to store the list type and arr is used to hold the converted numpy array .\n",
    "        return:\n",
    "            It print the 3*3 matrix.\n",
    "\n",
    "    \"\"\"\n",
    "    \n",
    "    arr=np.array([[2,3,4], [5,6,7], [8, 9, 10]])\n",
    "    print(arr)\n",
    "    print(\"---or---\")\n",
    "    \n",
    "    arr1=np.zeros((3,3))\n",
    "    j=2\n",
    "    for i in range (3):\n",
    "        for k in range(3):\n",
    "            arr1[i,k]=j\n",
    "            j+=1\n",
    "    print(arr1)\n",
    "    \n",
    "if __name__==\"__main__\":\n",
    "    main()"
   ]
  }
 ],
 "metadata": {
  "kernelspec": {
   "display_name": "Python 3",
   "language": "python",
   "name": "python3"
  },
  "language_info": {
   "codemirror_mode": {
    "name": "ipython",
    "version": 3
   },
   "file_extension": ".py",
   "mimetype": "text/x-python",
   "name": "python",
   "nbconvert_exporter": "python",
   "pygments_lexer": "ipython3",
   "version": "3.11.7"
  }
 },
 "nbformat": 4,
 "nbformat_minor": 2
}
