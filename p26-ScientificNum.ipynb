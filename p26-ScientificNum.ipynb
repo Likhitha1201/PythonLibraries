{
 "cells": [
  {
   "cell_type": "code",
   "execution_count": 5,
   "metadata": {},
   "outputs": [
    {
     "name": "stdout",
     "output_type": "stream",
     "text": [
      "Original are: [   0.       1.6   1200.       0.235]\n",
      "List of elements are: [   0.       1.6   1200.       0.235]\n"
     ]
    }
   ],
   "source": [
    "\"\"\" \n",
    "\n",
    "    @Author: Likhitha S\n",
    "    @Date: 11-10-2024 14:30\n",
    "    @Last Modified by: Likhitha S\n",
    "    @Last Modified time: 11-10-2024 14:30\n",
    "    @Title:Write a Python program to suppresses the use of scientific notation for small numbers in numpy array.  \n",
    "\n",
    "\"\"\"\n",
    "\n",
    "import numpy as np\n",
    "import logging\n",
    "\n",
    "def suppress_scientific_notation(arr):\n",
    "    \"\"\"\n",
    "\n",
    "        Description: \n",
    "            This function is used to convert scientific notation to decimal numbers.\n",
    "        Parameters: \n",
    "            arr is a collection of scientific elements in an array.\n",
    "        return:\n",
    "            It returns an updated array.\n",
    "\n",
    "    \"\"\"\n",
    "    \n",
    "    logging.basicConfig(filename=\"common.log\", filemode='w', level=logging.DEBUG, format=(\"%(asctime)s- %(levelname)s- %(message)s\"))\n",
    "    logging.info(f\"Original array elements: {arr}\")\n",
    "    np.set_printoptions(suppress=True, precision=3)\n",
    "    logging.info(f\"updated array with precision 3:{arr}\")\n",
    "    return arr\n",
    "   \n",
    "def main():\n",
    "    arr=np.array([ 1.60000000e-10, 1.60000000e+00, 1.20000000e+03, 2.35000000e-01] )\n",
    "    print(f\"Original are: {arr}\")\n",
    "    n_List=suppress_scientific_notation(arr)\n",
    "    print(f\"List of elements are: {n_List}\")\n",
    "    \n",
    "if __name__==\"__main__\":\n",
    "    main()"
   ]
  }
 ],
 "metadata": {
  "kernelspec": {
   "display_name": "Python 3",
   "language": "python",
   "name": "python3"
  },
  "language_info": {
   "codemirror_mode": {
    "name": "ipython",
    "version": 3
   },
   "file_extension": ".py",
   "mimetype": "text/x-python",
   "name": "python",
   "nbconvert_exporter": "python",
   "pygments_lexer": "ipython3",
   "version": "3.11.7"
  }
 },
 "nbformat": 4,
 "nbformat_minor": 2
}
