{
 "cells": [
  {
   "cell_type": "code",
   "execution_count": 3,
   "metadata": {},
   "outputs": [
    {
     "name": "stdout",
     "output_type": "stream",
     "text": [
      "missing details are: [name        James\n",
      "score         NaN\n",
      "attempts        3\n",
      "qualify        no\n",
      "Name: d, dtype: object, name        Laura\n",
      "score         NaN\n",
      "attempts        1\n",
      "qualify        no\n",
      "Name: h, dtype: object]\n"
     ]
    }
   ],
   "source": [
    "\n",
    "\"\"\" \n",
    "    @Author: Likhitha S\n",
    "    @Date: 13-10-2024 13:40\n",
    "    @Last Modified by: Likhitha S\n",
    "    @Last Modified time: 13-10-2024 13:40\n",
    "    @Title:  Write a Python program to select the rows where the score is missing, i.e. is NaN.  \n",
    "    \n",
    "\"\"\"\n",
    "\n",
    "import pandas as pd\n",
    "import numpy as np\n",
    "from logging import *\n",
    "\n",
    "def missing_data(data):\n",
    "    \"\"\"\n",
    "\n",
    "        Description: \n",
    "            This function is used to find missing details from score present inn dataframe.\n",
    "        Parameters: \n",
    "            data is an complete information of all the exam atire .\n",
    "        return:\n",
    "            It returns missing details from data.\n",
    "\n",
    "    \"\"\"\n",
    "    \n",
    "    basicConfig(filename=\"file.log\", filemode='w', level=INFO, format=(\"%(asctime)s: %(levelname)s: %(message)s\"))\n",
    "    info(f\"orginal data will be: {data} \")\n",
    "    missing_score=[]\n",
    "    for index in data.index:\n",
    "        if data['score'][index]!=data['score'][index]:\n",
    "            missing_score.append(data.loc[index])\n",
    "  \n",
    "    return missing_score\n",
    "\n",
    "def main():\n",
    "    exam_data = {'name': ['Anastasia', 'Dima', 'Katherine', 'James', 'Emily', 'Michael', 'Matthew', \n",
    "    'Laura', 'Kevin', 'Jonas'], \n",
    "    'score': [12.5, 9, 16.5, np.nan, 9, 20, 14.5, np.nan, 8, 19], \n",
    "    'attempts': [1, 3, 2, 3, 2, 3, 1, 1, 2, 1], \n",
    "    'qualify': ['yes', 'no', 'yes', 'no', 'no', 'yes', 'yes', 'no', 'no', 'yes']} \n",
    "    labels = ['a', 'b', 'c', 'd', 'e', 'f', 'g', 'h', 'i', 'j'] \n",
    "   \n",
    "    df=pd.DataFrame(exam_data, index=labels)\n",
    "    res=missing_data(df)\n",
    "    info(f\"missing data: {res}\")\n",
    "    print(f\"missing details are: {res}\")\n",
    "    \n",
    "if __name__==\"__main__\":\n",
    "    main()"
   ]
  }
 ],
 "metadata": {
  "kernelspec": {
   "display_name": "Python 3",
   "language": "python",
   "name": "python3"
  },
  "language_info": {
   "codemirror_mode": {
    "name": "ipython",
    "version": 3
   },
   "file_extension": ".py",
   "mimetype": "text/x-python",
   "name": "python",
   "nbconvert_exporter": "python",
   "pygments_lexer": "ipython3",
   "version": "3.11.7"
  }
 },
 "nbformat": 4,
 "nbformat_minor": 2
}
