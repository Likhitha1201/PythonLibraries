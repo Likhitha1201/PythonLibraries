{
 "cells": [
  {
   "cell_type": "code",
   "execution_count": 5,
   "metadata": {},
   "outputs": [
    {
     "name": "stderr",
     "output_type": "stream",
     "text": [
      "2024-10-11 10:55:27,063- INFO- an array: [[12 34 45]\n",
      " [39 65 78]] after flattening: [12 34 45 39 65 78]\n",
      "2024-10-11 10:55:27,063- INFO- an array flattened in row-wise it will look like: [12 34 45 39 65 78]\n"
     ]
    },
    {
     "name": "stdout",
     "output_type": "stream",
     "text": [
      "flatten array: [12 34 45 39 65 78]\n"
     ]
    }
   ],
   "source": [
    "\"\"\" \n",
    "\n",
    "    @Author: Likhitha S\n",
    "    @Date: 10-10-2024 11:00\n",
    "    @Last Modified by: Likhitha S\n",
    "    @Last Modified time: 10-10-2024 11:00\n",
    "    @Title:Write a Python program to create a contiguous flattened array.  \n",
    "\n",
    "\"\"\"\n",
    "\n",
    "import numpy as np\n",
    "import logging\n",
    "\n",
    "def saving_numpy_txtfile(arr):\n",
    "    \"\"\"\n",
    "\n",
    "        Description: \n",
    "            This function is used to flattened the array elements.\n",
    "        Parameters: \n",
    "            ar1 is an array came from the main method.\n",
    "        return:\n",
    "            It returns flattened array elements.\n",
    "\n",
    "    \"\"\"\n",
    "    \n",
    "    \n",
    "    logging.basicConfig(filename=\"common.log\",level=logging.INFO, format=(\"%(asctime)s- %(levelname)s- %(message)s\"))\n",
    "    \n",
    "    a=arr.ravel()\n",
    "    logging.info(f\"an array: {arr} after flattening: {a}\")\n",
    "    \n",
    "    return a\n",
    "    \n",
    "def main():\n",
    "    arr=np.array([[12,34,45],[39,65,78]])\n",
    "    res=saving_numpy_txtfile(arr)\n",
    "    \n",
    "    logging.info(f\"an array flattened in row-wise it will look like: {res}\")\n",
    "    print(f\"flatten array:\",res)\n",
    "    \n",
    "if __name__==\"__main__\":\n",
    "    main()\n",
    "    "
   ]
  }
 ],
 "metadata": {
  "kernelspec": {
   "display_name": "Python 3",
   "language": "python",
   "name": "python3"
  },
  "language_info": {
   "codemirror_mode": {
    "name": "ipython",
    "version": 3
   },
   "file_extension": ".py",
   "mimetype": "text/x-python",
   "name": "python",
   "nbconvert_exporter": "python",
   "pygments_lexer": "ipython3",
   "version": "3.11.7"
  }
 },
 "nbformat": 4,
 "nbformat_minor": 2
}
