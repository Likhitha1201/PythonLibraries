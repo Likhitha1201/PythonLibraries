{
 "cells": [
  {
   "cell_type": "code",
   "execution_count": 1,
   "metadata": {},
   "outputs": [
    {
     "name": "stdout",
     "output_type": "stream",
     "text": [
      "List of elements are: [0.235, 0.452, 0.264, 0.447, 0.354]\n"
     ]
    }
   ],
   "source": [
    "\"\"\" \n",
    "\n",
    "    @Author: Likhitha S\n",
    "    @Date: 11-10-2024 14:00\n",
    "    @Last Modified by: Likhitha S\n",
    "    @Last Modified time: 11-10-2024 14:00\n",
    "    @Title:Write a Python program to convert a NumPy array into Python list structure.    \n",
    "\n",
    "\"\"\"\n",
    "\n",
    "import numpy as np\n",
    "import logging\n",
    "\n",
    "def create_array(arr):\n",
    "    \"\"\"\n",
    "\n",
    "        Description: \n",
    "            This function is used to create an array with float type elements and round off to three decimal places.\n",
    "        Parameters: \n",
    "            arr ia an array passed from main method.\n",
    "        return:\n",
    "            It returns an updated array.\n",
    "\n",
    "    \"\"\"\n",
    "    \n",
    "    logging.basicConfig(filename=\"common.log\", filemode='w', level=logging.DEBUG, format=(\"%(asctime)s- %(levelname)s- %(message)s\"))\n",
    "    List=[]\n",
    "    for i in arr:\n",
    "        List.append(round(i,3))            \n",
    "    logging.debug(f\"updated array will be: {List}\")\n",
    "    return List   \n",
    "        \n",
    "    \n",
    "def main():\n",
    "    arr=np.array([0.23456, 0.45243, 0.263456, 0.447236, 0.354315],np.float16)\n",
    "    n_List=create_array(arr)\n",
    "    print(\"List of elements are:\",n_List)\n",
    "\n",
    "\n",
    "if __name__==\"__main__\":\n",
    "    main()"
   ]
  }
 ],
 "metadata": {
  "kernelspec": {
   "display_name": "Python 3",
   "language": "python",
   "name": "python3"
  },
  "language_info": {
   "codemirror_mode": {
    "name": "ipython",
    "version": 3
   },
   "file_extension": ".py",
   "mimetype": "text/x-python",
   "name": "python",
   "nbconvert_exporter": "python",
   "pygments_lexer": "ipython3",
   "version": "3.11.7"
  }
 },
 "nbformat": 4,
 "nbformat_minor": 2
}
