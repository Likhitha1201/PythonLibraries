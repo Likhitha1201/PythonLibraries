{
 "cells": [
  {
   "cell_type": "code",
   "execution_count": 5,
   "metadata": {},
   "outputs": [
    {
     "name": "stderr",
     "output_type": "stream",
     "text": [
      "DEBUG:root:saving an array: [[12 13 14]\n",
      " [10 31 26]\n",
      " [90 28 57]] into textfile \n"
     ]
    },
    {
     "name": "stdout",
     "output_type": "stream",
     "text": [
      "saved file name: arrayfile.txt\n"
     ]
    }
   ],
   "source": [
    "\"\"\" \n",
    "\n",
    "    @Author: Likhitha S\n",
    "    @Date: 10-10-2024 19:00\n",
    "    @Last Modified by: Likhitha S\n",
    "    @Last Modified time: 10-10-2024 19:00\n",
    "    @Title:Write a Python program to save a NumPy array to a text file.  \n",
    "\n",
    "\"\"\"\n",
    "\n",
    "import numpy as np\n",
    "import logging\n",
    "\n",
    "def saving_numpy_txtfile(arrayfile):\n",
    "    \"\"\"\n",
    "\n",
    "        Description: \n",
    "            This function is used to find the common elements present in both the array.\n",
    "        Parameters: \n",
    "            ar1 and arr2 are arrays came from the main method.\n",
    "        return:\n",
    "            It returns differed ele listed in new array.\n",
    "\n",
    "    \"\"\"\n",
    "    \n",
    "    logging.basicConfig(level=logging.DEBUG)\n",
    "    np.savetxt(\"arrayfile.txt\", arrayfile,fmt='%d')\n",
    "    logging.debug(f\"saving an array: {arrayfile} into textfile \")\n",
    "    print(\"saved file name: arrayfile.txt\")\n",
    "    \n",
    "def main():\n",
    "    arr1=np.array([[12,13,14],[10,31,26],[90,28,57]]) \n",
    "    saving_numpy_txtfile(arr1)\n",
    "    \n",
    "if __name__==\"__main__\":\n",
    "    main()"
   ]
  }
 ],
 "metadata": {
  "kernelspec": {
   "display_name": "Python 3",
   "language": "python",
   "name": "python3"
  },
  "language_info": {
   "codemirror_mode": {
    "name": "ipython",
    "version": 3
   },
   "file_extension": ".py",
   "mimetype": "text/x-python",
   "name": "python",
   "nbconvert_exporter": "python",
   "pygments_lexer": "ipython3",
   "version": "3.11.7"
  }
 },
 "nbformat": 4,
 "nbformat_minor": 2
}
