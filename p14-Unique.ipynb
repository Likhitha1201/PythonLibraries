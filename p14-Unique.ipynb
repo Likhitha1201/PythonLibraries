{
 "cells": [
  {
   "cell_type": "code",
   "execution_count": 22,
   "metadata": {},
   "outputs": [
    {
     "name": "stderr",
     "output_type": "stream",
     "text": [
      "2024-10-11 09:38:12,346- INFO- unique elements present in [1 2 3 4 5 0] and [2 4 6 7 8 3] are: [1, 5, 0, 6, 7, 8]\n",
      "2024-10-11 09:38:12,348- INFO- unique elements are: [1 5 0 6 7 8]\n"
     ]
    },
    {
     "name": "stdout",
     "output_type": "stream",
     "text": [
      "unique elements are: [1 5 0 6 7 8]\n"
     ]
    }
   ],
   "source": [
    "\"\"\" \n",
    "\n",
    "    @Author: Likhitha S\n",
    "    @Date: 10-10-2024 21:00\n",
    "    @Last Modified by: Likhitha S\n",
    "    @Last Modified time: 10-10-2024 21:00\n",
    "    @Title:Write a Python program to find the set exclusive-or of two arrays. Set exclusive-or will return the sorted, unique values that are in only one (not both) of the input arrays.  \n",
    "\n",
    "\"\"\"\n",
    "\n",
    "import numpy as np\n",
    "import logging\n",
    "\n",
    "def unique_eles(arr1, arr2):\n",
    "    \"\"\"\n",
    "\n",
    "        Description: \n",
    "            This function is used to find the unique elements present in both the array.\n",
    "        Parameters: \n",
    "            ar1 and arr2 are arrays came from the main method.\n",
    "        return:\n",
    "            It returns unique ele listed in new array.\n",
    "\n",
    "    \"\"\"\n",
    "    \n",
    "    logging.basicConfig(filename=\"common.log\", level=logging.INFO, format=(\"%(asctime)s- %(levelname)s- %(message)s\"))\n",
    "    \n",
    "    lt1=[]\n",
    "    lt2=[]\n",
    "    \n",
    "    for i in arr1:\n",
    "        found=False\n",
    "        for j in arr2:\n",
    "            if i==j:\n",
    "                found=True\n",
    "                break\n",
    "        if not found:\n",
    "                lt1.append(i)\n",
    "                \n",
    "    for k in arr2:\n",
    "        found1=False\n",
    "        for l in arr1:\n",
    "            if k==l:\n",
    "                found1=True\n",
    "                break\n",
    "        if not found1:\n",
    "                lt2.append(k)\n",
    "                \n",
    "    lt=lt1+lt2\n",
    "    logging.info(f\"unique elements present in {arr1} and {arr2} are: {lt}\")\n",
    "    arr=np.array(lt)\n",
    "    return arr\n",
    "            \n",
    "            \n",
    "def main():\n",
    "    arr1=np.array([1,2,3,4,5,0])\n",
    "    arr2=np.array([2,4,6,7,8,3])\n",
    "    unique=unique_eles(arr1, arr2)\n",
    "    \n",
    "    logging.info(f\"unique elements are: {unique}\")\n",
    "    print(f\"unique elements are: {unique}\")\n",
    "    \n",
    "    \n",
    "if __name__==\"__main__\":\n",
    "    main()\n",
    "    \n",
    "    "
   ]
  }
 ],
 "metadata": {
  "kernelspec": {
   "display_name": "Python 3",
   "language": "python",
   "name": "python3"
  },
  "language_info": {
   "codemirror_mode": {
    "name": "ipython",
    "version": 3
   },
   "file_extension": ".py",
   "mimetype": "text/x-python",
   "name": "python",
   "nbconvert_exporter": "python",
   "pygments_lexer": "ipython3",
   "version": "3.11.7"
  }
 },
 "nbformat": 4,
 "nbformat_minor": 2
}
