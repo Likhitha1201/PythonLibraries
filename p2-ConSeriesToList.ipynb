{
 "cells": [
  {
   "cell_type": "code",
   "execution_count": 13,
   "metadata": {},
   "outputs": [
    {
     "name": "stderr",
     "output_type": "stream",
     "text": [
      "2024-10-13 14:46:09,319- DEBUG- 1D array's looks like: 0    12\n",
      "1    23\n",
      "2    45\n",
      "3    67\n",
      "4    48\n",
      "5    96\n",
      "6    99\n",
      "dtype: int64\n",
      "2024-10-13 14:46:09,329- DEBUG- after converting array to list: [12, 23, 45, 67, 48, 96, 99]\n"
     ]
    },
    {
     "name": "stdout",
     "output_type": "stream",
     "text": [
      "[12, 23, 45, 67, 48, 96, 99]\n"
     ]
    }
   ],
   "source": [
    "import pandas as pd\n",
    "import logging as log\n",
    "\n",
    "def toList(arr):\n",
    "    \"\"\"\n",
    "\n",
    "        Description: \n",
    "            This function is used to create 1D-array.\n",
    "        Parameters: \n",
    "            data is used to store the elements in 1D-array .\n",
    "        return:\n",
    "            It print the array elements.\n",
    "\n",
    "    \"\"\"\n",
    "    \n",
    "    log.basicConfig(filename=\"file.log\", level=log.DEBUG, format=(\"%(asctime)s- %(levelname)s- %(message)s\"))\n",
    "    List=[]\n",
    "    log.debug(f\"1D array's looks like: {arr}\")\n",
    "    for i in arr:\n",
    "        List.append(i)\n",
    "    \n",
    "    return List\n",
    "    \n",
    "    \n",
    "def main():\n",
    "    result=pd.Series([12,23,45,67,48,96,99])\n",
    "    res=toList(result)\n",
    "    log.debug(f\"after converting array to list: {res}\")\n",
    "    print(\"after converting array to list:\",res)\n",
    "    \n",
    "    \n",
    "if __name__==\"__main__\":\n",
    "    main()"
   ]
  }
 ],
 "metadata": {
  "kernelspec": {
   "display_name": "Python 3",
   "language": "python",
   "name": "python3"
  },
  "language_info": {
   "codemirror_mode": {
    "name": "ipython",
    "version": 3
   },
   "file_extension": ".py",
   "mimetype": "text/x-python",
   "name": "python",
   "nbconvert_exporter": "python",
   "pygments_lexer": "ipython3",
   "version": "3.11.7"
  }
 },
 "nbformat": 4,
 "nbformat_minor": 2
}
