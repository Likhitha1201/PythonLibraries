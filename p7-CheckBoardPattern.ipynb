{
 "cells": [
  {
   "cell_type": "code",
   "execution_count": 13,
   "metadata": {},
   "outputs": [
    {
     "name": "stdout",
     "output_type": "stream",
     "text": [
      "checkerboard look's like: [[0 1 0 1 0 1 0 1]\n",
      " [1 0 1 0 1 0 1 0]\n",
      " [0 1 0 1 0 1 0 1]\n",
      " [1 0 1 0 1 0 1 0]\n",
      " [0 1 0 1 0 1 0 1]\n",
      " [1 0 1 0 1 0 1 0]\n",
      " [0 1 0 1 0 1 0 1]\n",
      " [1 0 1 0 1 0 1 0]]\n"
     ]
    }
   ],
   "source": [
    "\"\"\" \n",
    "\n",
    "    @Author: Likhitha S\n",
    "    @Date: 10-10-2024 17:20\n",
    "    @Last Modified by: Likhitha S\n",
    "    @Last Modified time: 10-10-2024 17:20\n",
    "    @Title: Write a Python program to create a 8x8 matrix and fill it with a checkerboard pattern.  \n",
    "\n",
    "\"\"\"\n",
    "\n",
    "import numpy as np\n",
    "import logging\n",
    "\n",
    "def create_checkboard(val):\n",
    "    \"\"\"\n",
    "\n",
    "        Description: \n",
    "            This function is used to create the checkerboard pattern of 8*8 matrix.\n",
    "        Parameters: \n",
    "            arr is used to store the array elements.\n",
    "        return:\n",
    "            It print the updated array.\n",
    "\n",
    "    \"\"\"\n",
    "    \n",
    "    checkboard=np.zeros((val,val), dtype=int)\n",
    "    logging.debug(f\"initial matrix:\\n{checkboard}\")\n",
    "    \n",
    "    for i in range(8):\n",
    "        for j in range(8):\n",
    "            checkboard[i][j]=(i+j)%2\n",
    "            \n",
    "    logging.debug(f\"updated matrix:\\n{checkboard}\")\n",
    "    return checkboard\n",
    "\n",
    "def main():\n",
    "    \n",
    "    board=create_checkboard(8)\n",
    "    print(\"checkerboard look's like:\",board)\n",
    "    \n",
    "if __name__==\"__main__\":\n",
    "    main()"
   ]
  }
 ],
 "metadata": {
  "kernelspec": {
   "display_name": "Python 3",
   "language": "python",
   "name": "python3"
  },
  "language_info": {
   "codemirror_mode": {
    "name": "ipython",
    "version": 3
   },
   "file_extension": ".py",
   "mimetype": "text/x-python",
   "name": "python",
   "nbconvert_exporter": "python",
   "pygments_lexer": "ipython3",
   "version": "3.11.7"
  }
 },
 "nbformat": 4,
 "nbformat_minor": 2
}
