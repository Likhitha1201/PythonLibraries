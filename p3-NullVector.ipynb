{
 "cells": [
  {
   "cell_type": "code",
   "execution_count": 3,
   "metadata": {},
   "outputs": [
    {
     "name": "stdout",
     "output_type": "stream",
     "text": [
      "original array: [0. 0. 0. 0. 0. 0. 0. 0. 0. 0.]\n",
      "after updating: [ 0.  0.  0.  0.  0.  0. 11.  0.  0.  0.]\n"
     ]
    }
   ],
   "source": [
    "\"\"\" \n",
    "\n",
    "    @Author: Likhitha S\n",
    "    @Date: 10-10-2024 16:30\n",
    "    @Last Modified by: Likhitha S\n",
    "    @Last Modified time: 10-10-2024 16:30\n",
    "    @Title: Write a Python program to create a null vector of size 10 and update sixth value to 11.  \n",
    "\n",
    "\"\"\"\n",
    "\n",
    "import numpy as np\n",
    "\n",
    "def main():\n",
    "    \"\"\"\n",
    "\n",
    "        Description: \n",
    "            This function is used to convert the list into 1D-numpy array.\n",
    "        Parameters: \n",
    "            arr is used to store the zero's elements and help to update specified position.\n",
    "        return:\n",
    "            It print the original and updated array.\n",
    "\n",
    "    \"\"\"\n",
    "    \n",
    "    arr= np.zeros(10)\n",
    "    print(\"original array:\",arr)\n",
    "    arr[6]=11\n",
    "    print(\"after updating:\",arr)\n",
    "    \n",
    "if __name__==\"__main__\":\n",
    "    main()"
   ]
  }
 ],
 "metadata": {
  "kernelspec": {
   "display_name": "Python 3",
   "language": "python",
   "name": "python3"
  },
  "language_info": {
   "codemirror_mode": {
    "name": "ipython",
    "version": 3
   },
   "file_extension": ".py",
   "mimetype": "text/x-python",
   "name": "python",
   "nbconvert_exporter": "python",
   "pygments_lexer": "ipython3",
   "version": "3.11.7"
  }
 },
 "nbformat": 4,
 "nbformat_minor": 2
}
