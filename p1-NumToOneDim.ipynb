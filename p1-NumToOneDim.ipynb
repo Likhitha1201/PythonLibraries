{
 "cells": [
  {
   "cell_type": "code",
   "execution_count": 1,
   "metadata": {},
   "outputs": [
    {
     "name": "stdout",
     "output_type": "stream",
     "text": [
      "[ 12.23  13.32 100.    36.32]\n"
     ]
    }
   ],
   "source": [
    "\"\"\" \n",
    "    @Author: Likhitha S\n",
    "    @Date: 10-10-2024 16:00\n",
    "    @Last Modified by: Likhitha S\n",
    "    @Last Modified time: 10-10-2024 16:00\n",
    "    @Title: Write a Python program to convert a list of numeric value into a one-dimensional NumPy array. \n",
    "           \n",
    "\"\"\"\n",
    "\n",
    "import numpy as np\n",
    "\n",
    "def main():\n",
    "    \"\"\"\n",
    "\n",
    "        Description: \n",
    "            This function is used to convert the list into 1D-numpy array.\n",
    "        Parameters: \n",
    "            List ia used to store the list type and arr is used to hold the converted numpy array .\n",
    "        return:\n",
    "            It print the converted numpy array.\n",
    "\n",
    "    \"\"\"\n",
    "    \n",
    "    List = [12.23, 13.32, 100, 36.32]  \n",
    "\n",
    "    arr = np.array(List)\n",
    "    print(arr)\n",
    "    \n",
    "if __name__==\"__main__\":\n",
    "    main()"
   ]
  },
  {
   "cell_type": "markdown",
   "metadata": {},
   "source": []
  }
 ],
 "metadata": {
  "kernelspec": {
   "display_name": "Python 3",
   "language": "python",
   "name": "python3"
  },
  "language_info": {
   "codemirror_mode": {
    "name": "ipython",
    "version": 3
   },
   "file_extension": ".py",
   "mimetype": "text/x-python",
   "name": "python",
   "nbconvert_exporter": "python",
   "pygments_lexer": "ipython3",
   "version": "3.11.7"
  }
 },
 "nbformat": 4,
 "nbformat_minor": 2
}
