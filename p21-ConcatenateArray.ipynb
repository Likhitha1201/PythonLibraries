{
 "cells": [
  {
   "cell_type": "code",
   "execution_count": 9,
   "metadata": {},
   "outputs": [
    {
     "name": "stdout",
     "output_type": "stream",
     "text": [
      "Updated array: [[ 0  1  2]\n",
      " [ 3  4  5]\n",
      " [ 6  7  8]\n",
      " [ 9 10 11]]\n"
     ]
    }
   ],
   "source": [
    "\"\"\" \n",
    "\n",
    "    @Author: Likhitha S\n",
    "    @Date: 10-10-2024 19:00\n",
    "    @Last Modified by: Likhitha S\n",
    "    @Last Modified time: 10-10-2024 19:00\n",
    "    @Title: Write a Python program to create an array which looks like below array.  \n",
    "\n",
    "\"\"\"\n",
    "\n",
    "import numpy as np\n",
    "import logging\n",
    "\n",
    "def concatenate_array(arr1, arr2):\n",
    "    \"\"\"\n",
    "\n",
    "        Description: \n",
    "            This function is used to create an array with one's and zero's as specified pattern.\n",
    "        Parameters: \n",
    "            arr ia an array passed from main method.\n",
    "        return:\n",
    "            It returns an updated array.\n",
    "\n",
    "    \"\"\"\n",
    "    \n",
    "    logging.basicConfig(filename=\"common.log\", filemode='w', level=logging.DEBUG, format=(\"%(asctime)s- %(levelname)s- %(message)s\"))\n",
    "    # axis 1-> indecates the horizonal concatination\n",
    "    arr= np.concatenate((arr1, arr2), axis=1)\n",
    "    logging.debug(f\"updated array will be: {arr}\")\n",
    "    return arr    \n",
    "        \n",
    "    \n",
    "    \n",
    "def main():\n",
    "    arr1=np.array([[0,1,2],[3,4,5]])\n",
    "    arr2=np.array([[6,7,8],[9,10,11]])\n",
    "    n_arr=concatenate_array(arr1, arr2)\n",
    "    print(\"Updated array:\",n_arr)\n",
    "    \n",
    "    \n",
    "    \n",
    "if __name__==\"__main__\":\n",
    "    main()"
   ]
  }
 ],
 "metadata": {
  "kernelspec": {
   "display_name": "Python 3",
   "language": "python",
   "name": "python3"
  },
  "language_info": {
   "codemirror_mode": {
    "name": "ipython",
    "version": 3
   },
   "file_extension": ".py",
   "mimetype": "text/x-python",
   "name": "python",
   "nbconvert_exporter": "python",
   "pygments_lexer": "ipython3",
   "version": "3.11.7"
  }
 },
 "nbformat": 4,
 "nbformat_minor": 2
}
