{
 "cells": [
  {
   "cell_type": "code",
   "execution_count": 7,
   "metadata": {},
   "outputs": [
    {
     "name": "stdout",
     "output_type": "stream",
     "text": [
      "List to array: [12 21 37 45 67 56 24]\n",
      "Tuple to array: [[23 45 67]\n",
      " [19 98 66]]\n"
     ]
    }
   ],
   "source": [
    "\"\"\" \n",
    "\n",
    "    @Author: Likhitha S\n",
    "    @Date: 10-10-2024 17:40\n",
    "    @Last Modified by: Likhitha S\n",
    "    @Last Modified time: 10-10-2024 17:40\n",
    "    @Title: Write a Python program to convert a list and tuple into arrays.  \n",
    "\n",
    "\"\"\"\n",
    "\n",
    "import numpy as np\n",
    "import logging\n",
    "\n",
    "def conversion(List, Tuple):\n",
    "    \"\"\"\n",
    "\n",
    "        Description: \n",
    "            This function is used to convert list and tuple to array.\n",
    "        Parameters: \n",
    "            Larr and Tarr is used to store the modified elements.\n",
    "        return:\n",
    "            It returns converted array.\n",
    "\n",
    "    \"\"\"\n",
    "    \n",
    "    logging.debug(f\"list : {List}\")\n",
    "    logging.debug(f\"tuple : {Tuple}\")\n",
    "\n",
    "    Larr=np.array(List)\n",
    "    Tarr=np.array(Tuple)\n",
    "    \n",
    "    logging.debug(f\"coverted matrix:{Larr} and {Tarr}\")\n",
    "    \n",
    "    return Larr, Tarr\n",
    "\n",
    "def main():\n",
    "    \n",
    "    List=[12,21,37,45,67,56,24]\n",
    "    Tuple=((23,45,67),(19,98,66))\n",
    "\n",
    "    Lres,Tres= conversion(List, Tuple)\n",
    "    print(\"List to array:\", Lres)\n",
    "    print(\"Tuple to array:\", Tres)\n",
    "\n",
    "if __name__==\"__main__\":\n",
    "    main()"
   ]
  }
 ],
 "metadata": {
  "kernelspec": {
   "display_name": "Python 3",
   "language": "python",
   "name": "python3"
  },
  "language_info": {
   "codemirror_mode": {
    "name": "ipython",
    "version": 3
   },
   "file_extension": ".py",
   "mimetype": "text/x-python",
   "name": "python",
   "nbconvert_exporter": "python",
   "pygments_lexer": "ipython3",
   "version": "3.11.7"
  }
 },
 "nbformat": 4,
 "nbformat_minor": 2
}
