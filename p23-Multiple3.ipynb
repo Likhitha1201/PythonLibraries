{
 "cells": [
  {
   "cell_type": "code",
   "execution_count": 1,
   "metadata": {},
   "outputs": [
    {
     "name": "stdout",
     "output_type": "stream",
     "text": [
      "Updated array: [[ 36  69 102]\n",
      " [ 63  96 126]\n",
      " [123 126 129]]\n"
     ]
    }
   ],
   "source": [
    "\"\"\" \n",
    "\n",
    "    @Author: Likhitha S\n",
    "    @Date: 11-10-2024 13:00\n",
    "    @Last Modified by: Likhitha S\n",
    "    @Last Modified time: 11-10-2024 13:00\n",
    "    @Title:Write a Python program to create an array of (3, 4) shape, multiply every element value by 3 and display the new array.  \n",
    "\n",
    "\"\"\"\n",
    "\n",
    "import numpy as np\n",
    "import logging\n",
    "\n",
    "def multiplication(arr):\n",
    "    \"\"\"\n",
    "\n",
    "        Description: \n",
    "            This function is used to create an array with one's and zero's as specified pattern.\n",
    "        Parameters: \n",
    "            arr ia an array passed from main method.\n",
    "        return:\n",
    "            It returns an updated array.\n",
    "\n",
    "    \"\"\"\n",
    "    \n",
    "    logging.basicConfig(filename=\"common.log\", filemode='w', level=logging.DEBUG, format=(\"%(asctime)s- %(levelname)s- %(message)s\"))\n",
    "    arr1= arr*3         \n",
    "    logging.debug(f\"updated array will be: {arr1}\")\n",
    "    return arr1   \n",
    "        \n",
    "    \n",
    "    \n",
    "def main():\n",
    "    arr=np.array([[12,23,34],[21,32,42],[41,42,43]])\n",
    "    n_arr=multiplication(arr)\n",
    "    print(\"Updated array:\",n_arr)\n",
    "    \n",
    "    \n",
    "    \n",
    "if __name__==\"__main__\":\n",
    "    main()"
   ]
  }
 ],
 "metadata": {
  "kernelspec": {
   "display_name": "Python 3",
   "language": "python",
   "name": "python3"
  },
  "language_info": {
   "codemirror_mode": {
    "name": "ipython",
    "version": 3
   },
   "file_extension": ".py",
   "mimetype": "text/x-python",
   "name": "python",
   "nbconvert_exporter": "python",
   "pygments_lexer": "ipython3",
   "version": "3.11.7"
  }
 },
 "nbformat": 4,
 "nbformat_minor": 2
}
