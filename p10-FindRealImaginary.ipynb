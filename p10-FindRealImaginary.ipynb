{
 "cells": [
  {
   "cell_type": "code",
   "execution_count": 2,
   "metadata": {},
   "outputs": [
    {
     "name": "stderr",
     "output_type": "stream",
     "text": [
      "2024-10-10 18:19:30,560- DEBUG- root- complex elements in array: [1.        +0.j         0.70710678+0.70710678j]\n",
      "2024-10-10 18:19:30,561- DEBUG- root- real part in array: [1.         0.70710678] and imaginary part in array is: [0.         0.70710678]\n"
     ]
    },
    {
     "name": "stdout",
     "output_type": "stream",
     "text": [
      "original array: [1.        +0.j         0.70710678+0.70710678j] \n",
      "real part: [1.         0.70710678] and Imaginary part: [0.         0.70710678]\n"
     ]
    }
   ],
   "source": [
    "\"\"\" \n",
    "\n",
    "    @Author: Likhitha S\n",
    "    @Date: 10-10-2024 18:20\n",
    "    @Last Modified by: Likhitha S\n",
    "    @Last Modified time: 10-10-2024 18:20\n",
    "    @Title:  Write a Python program to find the real and imaginary parts of an array of complex numbers.  \n",
    "    \n",
    "    \"\"\"\n",
    "\n",
    "import numpy as np\n",
    "import logging\n",
    "\n",
    "def FindComplex(arr):\n",
    "    \"\"\"\n",
    "\n",
    "        Description: \n",
    "            This function is used to check real and imaginary part .\n",
    "        Parameters: \n",
    "            arr and values are Parameters arr is an array and values are the elements to be added to it.\n",
    "        return:\n",
    "            It returns updated array.\n",
    "\n",
    "    \"\"\"\n",
    "    \n",
    "    logging.basicConfig(level=logging.DEBUG, format=('%(asctime)s- %(levelname)s- %(name)s- %(message)s'))\n",
    "    \n",
    "    logging.debug(f\"complex elements in array: {arr}\")\n",
    "    \n",
    "    Rarr=np.real(arr)\n",
    "    Iarr=np.imag(arr)\n",
    "    \n",
    "    logging.debug(f\"real part in array: {Rarr} and imaginary part in array is: {Iarr}\")\n",
    "    \n",
    "    return Rarr, Iarr\n",
    "\n",
    "def main():\n",
    "    \n",
    "    arr=np.array([ 1.00000000+0.j ,0.70710678+0.70710678j] )\n",
    "    print(f\"original array: {arr} \")\n",
    "    Rres, Ires=FindComplex(arr)\n",
    "    print(f\"real part: {Rres} and Imaginary part: {Ires}\")\n",
    "          \n",
    "\n",
    "if __name__==\"__main__\":\n",
    "    main()"
   ]
  }
 ],
 "metadata": {
  "kernelspec": {
   "display_name": "Python 3",
   "language": "python",
   "name": "python3"
  },
  "language_info": {
   "codemirror_mode": {
    "name": "ipython",
    "version": 3
   },
   "file_extension": ".py",
   "mimetype": "text/x-python",
   "name": "python",
   "nbconvert_exporter": "python",
   "pygments_lexer": "ipython3",
   "version": "3.11.7"
  }
 },
 "nbformat": 4,
 "nbformat_minor": 2
}
