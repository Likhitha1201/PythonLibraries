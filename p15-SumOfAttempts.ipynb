{
 "cells": [
  {
   "cell_type": "code",
   "execution_count": 6,
   "metadata": {},
   "outputs": [
    {
     "name": "stdout",
     "output_type": "stream",
     "text": [
      "total sum of all attempts will be: 19\n"
     ]
    }
   ],
   "source": [
    "\n",
    "\"\"\" \n",
    "    @Author: Likhitha S\n",
    "    @Date: 13-10-2024 22:00\n",
    "    @Last Modified by: Likhitha S\n",
    "    @Last Modified time: 13-10-2024 22:00\n",
    "    @Title:Write a Python program to calculate the sum of the examination attempts by the students.  \n",
    "    \n",
    "\"\"\"\n",
    "\n",
    "import pandas as pd\n",
    "import numpy as np\n",
    "from logging import *\n",
    "\n",
    "def modification_of_data(data):\n",
    "    \"\"\"\n",
    "\n",
    "        Description: \n",
    "            This function is used to find overall sum of attempt.\n",
    "        Parameters: \n",
    "            data is an complete information of all the exam atire .\n",
    "        return:\n",
    "            It returns the sum of entire column data along with all details.\n",
    "            \n",
    "    \"\"\"\n",
    "    \n",
    "    getLogger().handlers.clear()\n",
    "    basicConfig(filename=\"file.log\", filemode='w', level=INFO, format=(\"%(asctime)s: %(levelname)s: %(message)s:\"))\n",
    "    info(f\"orginal overall data will be: {data} \")\n",
    "    total_attempts=0\n",
    "  \n",
    "    for index in data.index:\n",
    "        try:\n",
    "            if data.loc[index,'attempts'] is not None:\n",
    "                total_attempts+=data.loc[index,'attempts']\n",
    "        except TypeError as e:\n",
    "            print(f\"Error: {e}\")\n",
    "            \n",
    "    return total_attempts\n",
    "\n",
    "def main():\n",
    "    exam_data = {'name': ['Anastasia', 'Dima', 'Katherine', 'James', 'Emily', 'Michael', 'Matthew', \n",
    "    'Laura', 'Kevin', 'Jonas'], \n",
    "    'score': [12.5, 9, 16.5, np.nan, 9, 20, 14.5, np.nan, 8, 19], \n",
    "    'attempts': [1, 3, 2, 3, 2, 3, 1, 1, 2, 1], \n",
    "    'qualify': ['yes', 'no', 'yes', 'no', 'no', 'yes', 'yes', 'no', 'no', 'yes']} \n",
    "    labels = ['a', 'b', 'c', 'd', 'e', 'f', 'g', 'h', 'i', 'j'] \n",
    "   \n",
    "    df=pd.DataFrame(exam_data, index=labels)\n",
    "    res=modification_of_data(df)\n",
    "    info(f\"total sum of all attempts will be: {res}\")\n",
    "    print(f\"total sum of all attempts will be: {res}\")\n",
    "    \n",
    "if __name__==\"__main__\":\n",
    "    main()"
   ]
  }
 ],
 "metadata": {
  "kernelspec": {
   "display_name": "Python 3",
   "language": "python",
   "name": "python3"
  },
  "language_info": {
   "codemirror_mode": {
    "name": "ipython",
    "version": 3
   },
   "file_extension": ".py",
   "mimetype": "text/x-python",
   "name": "python",
   "nbconvert_exporter": "python",
   "pygments_lexer": "ipython3",
   "version": "3.11.7"
  }
 },
 "nbformat": 4,
 "nbformat_minor": 2
}
