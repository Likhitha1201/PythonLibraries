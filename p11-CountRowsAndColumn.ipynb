{
 "cells": [
  {
   "cell_type": "code",
   "execution_count": 2,
   "metadata": {},
   "outputs": [
    {
     "name": "stdout",
     "output_type": "stream",
     "text": [
      "number of rows: 10 and columns will be: 4\n"
     ]
    }
   ],
   "source": [
    "\n",
    "\"\"\" \n",
    "    @Author: Likhitha S\n",
    "    @Date: 14-10-2024 11:00\n",
    "    @Last Modified by: Likhitha S\n",
    "    @Last Modified time: 14-10-2024 11:00\n",
    "    @Title: Write a Python program to count the number of rows and columns of a DataFrame.\n",
    "    \n",
    "\"\"\"\n",
    "\n",
    "import pandas as pd\n",
    "import numpy as np\n",
    "from logging import *\n",
    "\n",
    "def counting_rows_columns(data):\n",
    "    \"\"\"\n",
    "\n",
    "        Description: \n",
    "            This function is used to replace yes with true and no with false in qualify column .\n",
    "        Parameters: \n",
    "            data is an complete information of all the exam atire .\n",
    "        return:\n",
    "            It returns the modified data.\n",
    "            \n",
    "    \"\"\"\n",
    "    \n",
    "    getLogger().handlers.clear()\n",
    "    basicConfig(filename=\"file.log\", filemode='w', level=INFO, format=(\"%(asctime)s: %(levelname)s: %(message)s\"))\n",
    "    info(f\"orginal overall data will be: {data} \")\n",
    "   \n",
    "    r_count=0\n",
    "    c_count=0\n",
    "    \n",
    "    for index in data.index:\n",
    "        r_count+=1\n",
    "        \n",
    "    for column in data.columns:\n",
    "        c_count+=1\n",
    "     \n",
    "    info(f\" number of rows are {r_count} and columns are {c_count}\")\n",
    "    return r_count, c_count\n",
    "\n",
    "def main():\n",
    "    exam_data = {'name': ['Anastasia', 'Dima', 'Katherine', 'James', 'Emily', 'Michael', 'Matthew', \n",
    "    'Laura', 'Kevin', 'Jonas'], \n",
    "    'score': [12.5, 9, 16.5, np.nan, 9, 20, 14.5, np.nan, 8, 19], \n",
    "    'attempts': [1, 3, 2, 3, 2, 3, 1, 1, 2, 1], \n",
    "    'qualify': ['yes', 'no', 'yes', 'no', 'no', 'yes', 'yes', 'no', 'no', 'yes']} \n",
    "    labels = ['a', 'b', 'c', 'd', 'e', 'f', 'g', 'h', 'i', 'j'] \n",
    "   \n",
    "    df=pd.DataFrame(exam_data, index=labels)\n",
    "    rows, cols=counting_rows_columns(df)\n",
    "    print(f\"number of rows: {rows} and columns will be: {cols}\")\n",
    "    \n",
    "if __name__==\"__main__\":\n",
    "    main()"
   ]
  }
 ],
 "metadata": {
  "kernelspec": {
   "display_name": "Python 3",
   "language": "python",
   "name": "python3"
  },
  "language_info": {
   "codemirror_mode": {
    "name": "ipython",
    "version": 3
   },
   "file_extension": ".py",
   "mimetype": "text/x-python",
   "name": "python",
   "nbconvert_exporter": "python",
   "pygments_lexer": "ipython3",
   "version": "3.11.7"
  }
 },
 "nbformat": 4,
 "nbformat_minor": 2
}
