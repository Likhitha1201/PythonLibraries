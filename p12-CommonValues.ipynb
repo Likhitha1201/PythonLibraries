{
 "cells": [
  {
   "cell_type": "code",
   "execution_count": 22,
   "metadata": {},
   "outputs": [
    {
     "name": "stdout",
     "output_type": "stream",
     "text": [
      "final common ele are: [34. 56.]\n"
     ]
    }
   ],
   "source": [
    "\"\"\" \n",
    "\n",
    "    @Author: Likhitha S\n",
    "    @Date: 10-10-2024 19:00\n",
    "    @Last Modified by: Likhitha S\n",
    "    @Last Modified time: 10-10-2024 19:00\n",
    "    @Title: Write a Python program to find common values between two arrays.  \n",
    "    \n",
    "\"\"\"\n",
    "\n",
    "import numpy as np\n",
    "import logging\n",
    "\n",
    "def common(arr1, arr2):\n",
    "    \"\"\"\n",
    "\n",
    "        Description: \n",
    "            This function is used to find the common elements present in both the array.\n",
    "        Parameters: \n",
    "            ar1 and arr2 are arrays came from the main method.\n",
    "        return:\n",
    "            It returns common ele listed in new array.\n",
    "\n",
    "    \"\"\"\n",
    "    \n",
    "    logging.basicConfig(filename=\"common.log\", level=logging.DEBUG,format=(\"%(asctime)s- %(levelname)s- %(message)s\"))\n",
    "    arr=np.zeros(len(arr2))\n",
    "    logging.debug(f\"getting common elements from {arr1} and {arr2} , and it will be stored in {arr}\")\n",
    "    #List=[]\n",
    "    k=0\n",
    "    for i in arr1:\n",
    "        for j in arr2:\n",
    "            if i == j:\n",
    "                #List.append(i)\n",
    "                arr[k]=i\n",
    "                k+=1\n",
    "              \n",
    "    comm_eles=arr[:k]\n",
    "    logging.debug(f\"common elements in are: {arr}\")\n",
    "    return comm_eles\n",
    "\n",
    "def main():\n",
    "    arr1=np.array([12,34,56,78])\n",
    "    arr2=np.array([34,56,23,35])\n",
    "\n",
    "    res=common(arr1, arr2)\n",
    "    logging.debug(f\"final elements in are: {res}\")\n",
    "    print(\"final common ele are:\",res)\n",
    "    \n",
    "if __name__==\"__main__\":\n",
    "    main()"
   ]
  }
 ],
 "metadata": {
  "kernelspec": {
   "display_name": "Python 3",
   "language": "python",
   "name": "python3"
  },
  "language_info": {
   "codemirror_mode": {
    "name": "ipython",
    "version": 3
   },
   "file_extension": ".py",
   "mimetype": "text/x-python",
   "name": "python",
   "nbconvert_exporter": "python",
   "pygments_lexer": "ipython3",
   "version": "3.11.7"
  }
 },
 "nbformat": 4,
 "nbformat_minor": 2
}
