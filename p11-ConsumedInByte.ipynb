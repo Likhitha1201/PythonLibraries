{
 "cells": [
  {
   "cell_type": "code",
   "execution_count": 8,
   "metadata": {},
   "outputs": [
    {
     "name": "stderr",
     "output_type": "stream",
     "text": [
      "2024-10-10 22:56:32,656: INFO: Size of the array: 3\n",
      "2024-10-10 22:56:32,656: INFO: Length of one array element in bytes: 12\n",
      "2024-10-10 22:56:32,656: INFO: Total bytes consumed by the elements of the array: 36\n"
     ]
    }
   ],
   "source": [
    "\"\"\" \n",
    "\n",
    "    @Author: Likhitha S\n",
    "    @Date: 10-10-2024 18:20\n",
    "    @Last Modified by: Likhitha S\n",
    "    @Last Modified time: 10-10-2024 18:20\n",
    "    @Title:  Write a Python program to find the real and imaginary parts of an array of complex numbers.  \n",
    "    \n",
    "\"\"\"\n",
    "\n",
    "import numpy as np\n",
    "import logging\n",
    "\n",
    "logging.basicConfig(level=logging.INFO, format=(\"%(asctime)s: %(levelname)s: %(message)s\"))\n",
    "\n",
    "def array_info(arr):\n",
    "    size=arr.size\n",
    "    itemsize = arr.itemsize\n",
    "    nbytes = arr.nbytes\n",
    "\n",
    "    logging.info(f\"Size of the array: {size}\")\n",
    "    logging.info(f\"Length of one array element in bytes: {itemsize}\")\n",
    "    logging.info(f\"Total bytes consumed by the elements of the array: {nbytes}\")\n",
    "\n",
    "def main():\n",
    "    array = np.array(['abc','bca','cab'], dtype=np.str_)\n",
    "    array_info(array)\n",
    "    \n",
    "if __name__ == \"__main__\":\n",
    "    main()"
   ]
  }
 ],
 "metadata": {
  "kernelspec": {
   "display_name": "Python 3",
   "language": "python",
   "name": "python3"
  },
  "language_info": {
   "codemirror_mode": {
    "name": "ipython",
    "version": 3
   },
   "file_extension": ".py",
   "mimetype": "text/x-python",
   "name": "python",
   "nbconvert_exporter": "python",
   "pygments_lexer": "ipython3",
   "version": "3.11.7"
  }
 },
 "nbformat": 4,
 "nbformat_minor": 2
}
